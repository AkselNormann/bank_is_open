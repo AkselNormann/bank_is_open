{
 "cells": [
  {
   "cell_type": "markdown",
   "metadata": {},
   "source": [
    "# Collaborative Filtering"
   ]
  },
  {
   "cell_type": "code",
   "execution_count": 26,
   "metadata": {},
   "outputs": [],
   "source": [
    "# for data manipulation\n",
    "import numpy as np\n",
    "import pandas as pd\n",
    "import os\n",
    "\n",
    "# use surprise for collaborative filtering\n",
    "from surprise import Reader, Dataset\n",
    "from surprise import SVD, evaluate\n",
    "from surprise import NMF\n",
    "\n",
    "# plotting \n",
    "import matplotlib.pyplot as plt"
   ]
  },
  {
   "cell_type": "markdown",
   "metadata": {},
   "source": [
    "## Read in data"
   ]
  },
  {
   "cell_type": "markdown",
   "metadata": {},
   "source": [
    "#### Game data"
   ]
  },
  {
   "cell_type": "code",
   "execution_count": 2,
   "metadata": {},
   "outputs": [],
   "source": [
    "game_data_path = \"data/final_game_data/\"\n",
    "files = os.listdir(game_data_path)\n",
    "season = pd.read_csv(game_data_path + files[0])"
   ]
  },
  {
   "cell_type": "code",
   "execution_count": 3,
   "metadata": {},
   "outputs": [
    {
     "data": {
      "text/plain": [
       "(2632, 98)"
      ]
     },
     "execution_count": 3,
     "metadata": {},
     "output_type": "execute_result"
    }
   ],
   "source": [
    "season.shape"
   ]
  },
  {
   "cell_type": "markdown",
   "metadata": {},
   "source": [
    "#### Odds data"
   ]
  },
  {
   "cell_type": "code",
   "execution_count": 4,
   "metadata": {},
   "outputs": [],
   "source": [
    "odds_data_path = \"data/odds_data_processed/\"\n",
    "odds_files = os.listdir(odds_data_path)"
   ]
  },
  {
   "cell_type": "code",
   "execution_count": 5,
   "metadata": {},
   "outputs": [],
   "source": [
    "odds = pd.read_csv(odds_data_path + odds_files[1])"
   ]
  },
  {
   "cell_type": "code",
   "execution_count": 6,
   "metadata": {},
   "outputs": [
    {
     "data": {
      "text/plain": [
       "(1288, 14)"
      ]
     },
     "execution_count": 6,
     "metadata": {},
     "output_type": "execute_result"
    }
   ],
   "source": [
    "odds.shape"
   ]
  },
  {
   "cell_type": "markdown",
   "metadata": {},
   "source": [
    "#### Reconciling names"
   ]
  },
  {
   "cell_type": "code",
   "execution_count": 7,
   "metadata": {},
   "outputs": [
    {
     "name": "stdout",
     "output_type": "stream",
     "text": [
      "LA Lakers\n",
      "LA Clippers\n"
     ]
    }
   ],
   "source": [
    "season_names = {'Golden State Warriors':'GSW',\n",
    "                'Los Angeles Lakers': 'LAL',\n",
    "                'San Antonio Spurs': 'SAS',\n",
    "                'Cleveland Cavaliers': 'CLE',\n",
    "                'Denver Nuggets': 'DEN',\n",
    "                'Indiana Pacers': 'IND',\n",
    "                'Memphis Grizzlies': 'MEM',\n",
    "                'New Jersey Nets': 'BRK',\n",
    "                'Brooklyn Nets': 'BRK',\n",
    "                'New Orleans Hornets': 'NOP',\n",
    "                'New Orleans Pelicans': 'NOP',\n",
    "                'Orlando Magic': 'ORL',\n",
    "                'Toronto Raptors': 'TOR',\n",
    "                'Miami Heat': 'MIA',\n",
    "                'Seattle SuperSonics': 'SEA',\n",
    "                'Utah Jazz': 'UTA',\n",
    "                'Atlanta Hawks': 'ATL',\n",
    "                'Boston Celtics': 'BOS',\n",
    "                'Charlotte Bobcats': 'CHA',\n",
    "                'Charlotte Hornets': 'CHA',\n",
    "                'Chicago Bulls': 'CHI',\n",
    "                'Los Angeles Clippers': 'LAC',\n",
    "                'Minnesota Timberwolves': 'MIN',\n",
    "                'Phoenix Suns': 'PHO',\n",
    "                'Dallas Mavericks': 'DAL',\n",
    "                'Houston Rockets': 'HOU',\n",
    "                'Milwaukee Bucks': 'MIL',\n",
    "                'Philadelphia 76ers': 'PHI',\n",
    "                'Washington Wizards': 'WAS',\n",
    "                'Detroit Pistons': 'DET',\n",
    "                'New York Knicks': 'NYK',\n",
    "                'Sacramento Kings': 'SAC',\n",
    "                'Portland Trail Blazers': 'POR',\n",
    "                'Oklahoma City Thunder': 'OKC'\n",
    "        }\n",
    "odds_names = {}\n",
    "for name in list(pd.unique(odds.Home)):\n",
    "    found = False\n",
    "    for s_name in season_names:\n",
    "        if name in s_name:\n",
    "            found = True\n",
    "            odds_names[name] = season_names[s_name]\n",
    "    if not found: print(name)\n",
    "odds_names[\"LA Lakers\"] = \"LAL\"\n",
    "odds_names[\"LA Clippers\"] = \"LAC\"\n",
    "odds_names[\"Okla City\"] = \"OKC\""
   ]
  },
  {
   "cell_type": "code",
   "execution_count": 8,
   "metadata": {},
   "outputs": [],
   "source": [
    "odds[\"Home\"] = odds[\"Home\"].apply(lambda x: odds_names[x])\n",
    "odds[\"Away\"] = odds[\"Away\"].apply(lambda x: odds_names[x])\n",
    "\n",
    "season[\"team\"] = season[\"team\"].apply(lambda x: season_names[x])\n",
    "season[\"opponent\"] = season[\"opponent\"].apply(lambda x: season_names[x])"
   ]
  },
  {
   "cell_type": "markdown",
   "metadata": {},
   "source": [
    "#### Merging the two data tables"
   ]
  },
  {
   "cell_type": "code",
   "execution_count": 9,
   "metadata": {},
   "outputs": [],
   "source": [
    "def make_index(row, col1, col2, col3):\n",
    "    return str(row[col1]) + str(row[col2]) + str(row[col3])\n",
    "\n",
    "season[\"date\"] = season[\"date\"].apply(lambda x: str(x)[:-1])\n",
    "\n",
    "season[\"Index\"] = season.apply(lambda x: make_index(x, \"date\", \"team\", \"opponent\"), axis=1)\n",
    "\n",
    "odds[\"Date\"] = odds[\"Date\"].apply(lambda x: \"\".join(x.split(\"-\")))\n",
    "\n",
    "odds[\"Index\"] = odds.apply(lambda x: make_index(x, \"Date\", \"Home\", \"Away\"), axis=1)\n",
    "\n",
    "merged = pd.merge(odds, season, on='Index')\n",
    "\n",
    "merged = merged.drop([\"Unnamed: 0_x\", \"Unnamed: 0_y\", \"date\", \"Home\", \"Away\", \"index\"], axis = 1)"
   ]
  },
  {
   "cell_type": "code",
   "execution_count": 10,
   "metadata": {},
   "outputs": [
    {
     "data": {
      "text/html": [
       "<div>\n",
       "<style scoped>\n",
       "    .dataframe tbody tr th:only-of-type {\n",
       "        vertical-align: middle;\n",
       "    }\n",
       "\n",
       "    .dataframe tbody tr th {\n",
       "        vertical-align: top;\n",
       "    }\n",
       "\n",
       "    .dataframe thead th {\n",
       "        text-align: right;\n",
       "    }\n",
       "</style>\n",
       "<table border=\"1\" class=\"dataframe\">\n",
       "  <thead>\n",
       "    <tr style=\"text-align: right;\">\n",
       "      <th></th>\n",
       "      <th>Date</th>\n",
       "      <th>OU</th>\n",
       "      <th>Spread</th>\n",
       "      <th>OU_2H</th>\n",
       "      <th>Spread_2H</th>\n",
       "      <th>ML_home</th>\n",
       "      <th>ML_away</th>\n",
       "      <th>Points</th>\n",
       "      <th>Win Margin</th>\n",
       "      <th>2H Points</th>\n",
       "      <th>...</th>\n",
       "      <th>opponent_HOB</th>\n",
       "      <th>opponent_STL</th>\n",
       "      <th>opponent_TRB</th>\n",
       "      <th>opponent_FTA</th>\n",
       "      <th>opponent_BLK</th>\n",
       "      <th>opponent_FTr</th>\n",
       "      <th>opponent_TS%</th>\n",
       "      <th>opponent_FT/FGA</th>\n",
       "      <th>opponent_3P%</th>\n",
       "      <th>home</th>\n",
       "    </tr>\n",
       "  </thead>\n",
       "  <tbody>\n",
       "    <tr>\n",
       "      <th>1185</th>\n",
       "      <td>20080415</td>\n",
       "      <td>216.0</td>\n",
       "      <td>17.5</td>\n",
       "      <td>106.0</td>\n",
       "      <td>5.5</td>\n",
       "      <td>-2400</td>\n",
       "      <td>1400</td>\n",
       "      <td>225</td>\n",
       "      <td>23</td>\n",
       "      <td>115</td>\n",
       "      <td>...</td>\n",
       "      <td>1.578947</td>\n",
       "      <td>9.0</td>\n",
       "      <td>41.0</td>\n",
       "      <td>20.0</td>\n",
       "      <td>4.0</td>\n",
       "      <td>0.233</td>\n",
       "      <td>0.5327</td>\n",
       "      <td>0.197674</td>\n",
       "      <td>0.615385</td>\n",
       "      <td>1</td>\n",
       "    </tr>\n",
       "  </tbody>\n",
       "</table>\n",
       "<p>1 rows × 107 columns</p>\n",
       "</div>"
      ],
      "text/plain": [
       "          Date     OU  Spread  OU_2H Spread_2H ML_home ML_away  Points  \\\n",
       "1185  20080415  216.0    17.5  106.0       5.5   -2400    1400     225   \n",
       "\n",
       "      Win Margin  2H Points  ...   opponent_HOB opponent_STL opponent_TRB  \\\n",
       "1185          23        115  ...       1.578947          9.0         41.0   \n",
       "\n",
       "     opponent_FTA  opponent_BLK  opponent_FTr  opponent_TS%  opponent_FT/FGA  \\\n",
       "1185         20.0           4.0         0.233        0.5327         0.197674   \n",
       "\n",
       "      opponent_3P%  home  \n",
       "1185      0.615385     1  \n",
       "\n",
       "[1 rows x 107 columns]"
      ]
     },
     "execution_count": 10,
     "metadata": {},
     "output_type": "execute_result"
    }
   ],
   "source": [
    "merged.sample(1)"
   ]
  },
  {
   "cell_type": "code",
   "execution_count": 11,
   "metadata": {},
   "outputs": [],
   "source": [
    "in_data = merged.set_index(\"Index\")\n",
    "#data = data.drop([\"index\"], axis = 1)\n",
    "in_data = in_data.sort_index()"
   ]
  },
  {
   "cell_type": "code",
   "execution_count": 12,
   "metadata": {},
   "outputs": [
    {
     "data": {
      "text/plain": [
       "(1285, 106)"
      ]
     },
     "execution_count": 12,
     "metadata": {},
     "output_type": "execute_result"
    }
   ],
   "source": [
    "in_data.shape"
   ]
  },
  {
   "cell_type": "code",
   "execution_count": 13,
   "metadata": {},
   "outputs": [
    {
     "data": {
      "text/html": [
       "<div>\n",
       "<style scoped>\n",
       "    .dataframe tbody tr th:only-of-type {\n",
       "        vertical-align: middle;\n",
       "    }\n",
       "\n",
       "    .dataframe tbody tr th {\n",
       "        vertical-align: top;\n",
       "    }\n",
       "\n",
       "    .dataframe thead th {\n",
       "        text-align: right;\n",
       "    }\n",
       "</style>\n",
       "<table border=\"1\" class=\"dataframe\">\n",
       "  <thead>\n",
       "    <tr style=\"text-align: right;\">\n",
       "      <th></th>\n",
       "      <th>Date</th>\n",
       "      <th>OU</th>\n",
       "      <th>Spread</th>\n",
       "      <th>OU_2H</th>\n",
       "      <th>Spread_2H</th>\n",
       "      <th>ML_home</th>\n",
       "      <th>ML_away</th>\n",
       "      <th>Points</th>\n",
       "      <th>Win Margin</th>\n",
       "      <th>2H Points</th>\n",
       "      <th>...</th>\n",
       "      <th>opponent_HOB</th>\n",
       "      <th>opponent_STL</th>\n",
       "      <th>opponent_TRB</th>\n",
       "      <th>opponent_FTA</th>\n",
       "      <th>opponent_BLK</th>\n",
       "      <th>opponent_FTr</th>\n",
       "      <th>opponent_TS%</th>\n",
       "      <th>opponent_FT/FGA</th>\n",
       "      <th>opponent_3P%</th>\n",
       "      <th>home</th>\n",
       "    </tr>\n",
       "    <tr>\n",
       "      <th>Index</th>\n",
       "      <th></th>\n",
       "      <th></th>\n",
       "      <th></th>\n",
       "      <th></th>\n",
       "      <th></th>\n",
       "      <th></th>\n",
       "      <th></th>\n",
       "      <th></th>\n",
       "      <th></th>\n",
       "      <th></th>\n",
       "      <th></th>\n",
       "      <th></th>\n",
       "      <th></th>\n",
       "      <th></th>\n",
       "      <th></th>\n",
       "      <th></th>\n",
       "      <th></th>\n",
       "      <th></th>\n",
       "      <th></th>\n",
       "      <th></th>\n",
       "      <th></th>\n",
       "    </tr>\n",
       "  </thead>\n",
       "  <tbody>\n",
       "    <tr>\n",
       "      <th>20071030GSWUTA</th>\n",
       "      <td>20071030</td>\n",
       "      <td>214.5</td>\n",
       "      <td>3.0</td>\n",
       "      <td>105.5</td>\n",
       "      <td>3.0</td>\n",
       "      <td>-120</td>\n",
       "      <td>100</td>\n",
       "      <td>213</td>\n",
       "      <td>-21</td>\n",
       "      <td>100</td>\n",
       "      <td>...</td>\n",
       "      <td>1.585366</td>\n",
       "      <td>9.0</td>\n",
       "      <td>56.0</td>\n",
       "      <td>36.0</td>\n",
       "      <td>7.0</td>\n",
       "      <td>0.400</td>\n",
       "      <td>0.552721</td>\n",
       "      <td>0.333333</td>\n",
       "      <td>0.454545</td>\n",
       "      <td>1</td>\n",
       "    </tr>\n",
       "    <tr>\n",
       "      <th>20071030LALHOU</th>\n",
       "      <td>20071030</td>\n",
       "      <td>191.0</td>\n",
       "      <td>2.5</td>\n",
       "      <td>99</td>\n",
       "      <td>3</td>\n",
       "      <td>190</td>\n",
       "      <td>-230</td>\n",
       "      <td>188</td>\n",
       "      <td>-2</td>\n",
       "      <td>102</td>\n",
       "      <td>...</td>\n",
       "      <td>1.676471</td>\n",
       "      <td>10.0</td>\n",
       "      <td>49.0</td>\n",
       "      <td>31.0</td>\n",
       "      <td>5.0</td>\n",
       "      <td>0.419</td>\n",
       "      <td>0.541990</td>\n",
       "      <td>0.283784</td>\n",
       "      <td>0.272727</td>\n",
       "      <td>1</td>\n",
       "    </tr>\n",
       "    <tr>\n",
       "      <th>20071030SASPOR</th>\n",
       "      <td>20071030</td>\n",
       "      <td>184.0</td>\n",
       "      <td>12.5</td>\n",
       "      <td>95</td>\n",
       "      <td>5</td>\n",
       "      <td>-1400</td>\n",
       "      <td>900</td>\n",
       "      <td>203</td>\n",
       "      <td>9</td>\n",
       "      <td>95</td>\n",
       "      <td>...</td>\n",
       "      <td>1.384615</td>\n",
       "      <td>1.0</td>\n",
       "      <td>40.0</td>\n",
       "      <td>17.0</td>\n",
       "      <td>4.0</td>\n",
       "      <td>0.218</td>\n",
       "      <td>0.567384</td>\n",
       "      <td>0.166667</td>\n",
       "      <td>0.461538</td>\n",
       "      <td>1</td>\n",
       "    </tr>\n",
       "    <tr>\n",
       "      <th>20071031BRKCHI</th>\n",
       "      <td>20071031</td>\n",
       "      <td>188.0</td>\n",
       "      <td>2.0</td>\n",
       "      <td>94</td>\n",
       "      <td>3</td>\n",
       "      <td>-125</td>\n",
       "      <td>105</td>\n",
       "      <td>215</td>\n",
       "      <td>9</td>\n",
       "      <td>95</td>\n",
       "      <td>...</td>\n",
       "      <td>1.605263</td>\n",
       "      <td>7.0</td>\n",
       "      <td>45.0</td>\n",
       "      <td>26.0</td>\n",
       "      <td>3.0</td>\n",
       "      <td>0.271</td>\n",
       "      <td>0.479337</td>\n",
       "      <td>0.197917</td>\n",
       "      <td>0.347826</td>\n",
       "      <td>1</td>\n",
       "    </tr>\n",
       "    <tr>\n",
       "      <th>20071031CLEDAL</th>\n",
       "      <td>20071031</td>\n",
       "      <td>186.0</td>\n",
       "      <td>3.0</td>\n",
       "      <td>91.5</td>\n",
       "      <td>4.0</td>\n",
       "      <td>120</td>\n",
       "      <td>-140</td>\n",
       "      <td>166</td>\n",
       "      <td>-18</td>\n",
       "      <td>78</td>\n",
       "      <td>...</td>\n",
       "      <td>1.696970</td>\n",
       "      <td>6.0</td>\n",
       "      <td>36.0</td>\n",
       "      <td>20.0</td>\n",
       "      <td>8.0</td>\n",
       "      <td>0.290</td>\n",
       "      <td>0.591260</td>\n",
       "      <td>0.246377</td>\n",
       "      <td>0.500000</td>\n",
       "      <td>1</td>\n",
       "    </tr>\n",
       "  </tbody>\n",
       "</table>\n",
       "<p>5 rows × 106 columns</p>\n",
       "</div>"
      ],
      "text/plain": [
       "                    Date     OU  Spread  OU_2H Spread_2H ML_home ML_away  \\\n",
       "Index                                                                      \n",
       "20071030GSWUTA  20071030  214.5     3.0  105.5       3.0    -120     100   \n",
       "20071030LALHOU  20071030  191.0     2.5     99         3     190    -230   \n",
       "20071030SASPOR  20071030  184.0    12.5     95         5   -1400     900   \n",
       "20071031BRKCHI  20071031  188.0     2.0     94         3    -125     105   \n",
       "20071031CLEDAL  20071031  186.0     3.0   91.5       4.0     120    -140   \n",
       "\n",
       "                Points  Win Margin  2H Points  ...   opponent_HOB  \\\n",
       "Index                                          ...                  \n",
       "20071030GSWUTA     213         -21        100  ...       1.585366   \n",
       "20071030LALHOU     188          -2        102  ...       1.676471   \n",
       "20071030SASPOR     203           9         95  ...       1.384615   \n",
       "20071031BRKCHI     215           9         95  ...       1.605263   \n",
       "20071031CLEDAL     166         -18         78  ...       1.696970   \n",
       "\n",
       "               opponent_STL opponent_TRB  opponent_FTA  opponent_BLK  \\\n",
       "Index                                                                  \n",
       "20071030GSWUTA          9.0         56.0          36.0           7.0   \n",
       "20071030LALHOU         10.0         49.0          31.0           5.0   \n",
       "20071030SASPOR          1.0         40.0          17.0           4.0   \n",
       "20071031BRKCHI          7.0         45.0          26.0           3.0   \n",
       "20071031CLEDAL          6.0         36.0          20.0           8.0   \n",
       "\n",
       "                opponent_FTr  opponent_TS%  opponent_FT/FGA  opponent_3P%  \\\n",
       "Index                                                                       \n",
       "20071030GSWUTA         0.400      0.552721         0.333333      0.454545   \n",
       "20071030LALHOU         0.419      0.541990         0.283784      0.272727   \n",
       "20071030SASPOR         0.218      0.567384         0.166667      0.461538   \n",
       "20071031BRKCHI         0.271      0.479337         0.197917      0.347826   \n",
       "20071031CLEDAL         0.290      0.591260         0.246377      0.500000   \n",
       "\n",
       "                home  \n",
       "Index                 \n",
       "20071030GSWUTA     1  \n",
       "20071030LALHOU     1  \n",
       "20071030SASPOR     1  \n",
       "20071031BRKCHI     1  \n",
       "20071031CLEDAL     1  \n",
       "\n",
       "[5 rows x 106 columns]"
      ]
     },
     "execution_count": 13,
     "metadata": {},
     "output_type": "execute_result"
    }
   ],
   "source": [
    "in_data.head(5)"
   ]
  },
  {
   "cell_type": "markdown",
   "metadata": {},
   "source": [
    "## Collaborative filtering (without team features)"
   ]
  },
  {
   "cell_type": "code",
   "execution_count": 14,
   "metadata": {},
   "outputs": [],
   "source": [
    "dates = pd.unique(in_data.Date)\n",
    "prev_games = 7\n",
    "algo = SVD()"
   ]
  },
  {
   "cell_type": "code",
   "execution_count": 20,
   "metadata": {},
   "outputs": [],
   "source": [
    "def train_model(train):\n",
    "    \n",
    "    algo = SVD()\n",
    "    \n",
    "    ratings_dict = {'userID': list(train.team),\n",
    "                    'itemID': list(train.opponent),\n",
    "                    'rating': list(train.Points)}\n",
    "    df = pd.DataFrame(ratings_dict)\n",
    "\n",
    "    # A reader is still needed but only the rating_scale param is required.\n",
    "    # The Reader class is used to parse a file containing ratings.\n",
    "    reader = Reader(rating_scale=(75, 280))\n",
    "\n",
    "    # The columns must correspond to user id, item id and ratings (in that order).\n",
    "    data = Dataset.load_from_df(df[['userID', 'itemID', 'rating']], reader)\n",
    "    \n",
    "    train = data.build_full_trainset()\n",
    "    algo.fit(train)\n",
    "    \n",
    "    return algo\n",
    "    "
   ]
  },
  {
   "cell_type": "code",
   "execution_count": 54,
   "metadata": {},
   "outputs": [],
   "source": [
    "def test_model(test, algo, verbose=False): \n",
    "    users = test.team\n",
    "    items = test.opponent\n",
    "    labels = test.Points\n",
    "    OU = test.OU\n",
    "\n",
    "    mse = 0\n",
    "    errors = 0\n",
    "    num_bets = 0\n",
    "\n",
    "    for i in range(len(users)):\n",
    "        user = users[i]\n",
    "        item = items[i]\n",
    "        label = labels[i]\n",
    "        ou = OU[i]\n",
    "        \n",
    "        pred = algo.predict(user, item, label).est\n",
    "        \n",
    "        if np.abs(pred - ou) > 4:\n",
    "            num_bets += 1\n",
    "            if (pred - ou)*(label - ou) < 0: errors += 1\n",
    "        \n",
    "\n",
    "        mse += (label - pred)**2\n",
    "        \n",
    "    if verbose: print(\"MSE: {}\".format(mse/len(users)))\n",
    "        \n",
    "    return mse, len(users), errors, num_bets"
   ]
  },
  {
   "cell_type": "code",
   "execution_count": 55,
   "metadata": {},
   "outputs": [
    {
     "name": "stdout",
     "output_type": "stream",
     "text": [
      "Looking at the last 1 days, the MSE is: 546.6975606494059 (on 1282 tests)\n",
      "Looking at the last 2 days, the MSE is: 479.15483953240505 (on 1274 tests)\n",
      "Looking at the last 3 days, the MSE is: 465.51517770306367 (on 1271 tests)\n",
      "Looking at the last 4 days, the MSE is: 458.93265567797005 (on 1258 tests)\n",
      "Looking at the last 5 days, the MSE is: 451.124337583594 (on 1251 tests)\n",
      "Looking at the last 6 days, the MSE is: 451.3625376384383 (on 1243 tests)\n",
      "Looking at the last 7 days, the MSE is: 451.8220931718502 (on 1242 tests)\n",
      "Looking at the last 8 days, the MSE is: 450.88853050821524 (on 1234 tests)\n",
      "Looking at the last 9 days, the MSE is: 449.4043142436343 (on 1225 tests)\n",
      "Looking at the last 10 days, the MSE is: 450.4142025275122 (on 1222 tests)\n",
      "Looking at the last 11 days, the MSE is: 457.14583751872885 (on 1209 tests)\n",
      "Looking at the last 12 days, the MSE is: 452.8556775830466 (on 1204 tests)\n",
      "Looking at the last 13 days, the MSE is: 456.5734004610504 (on 1198 tests)\n",
      "Looking at the last 14 days, the MSE is: 453.5335464660734 (on 1195 tests)\n",
      "Looking at the last 15 days, the MSE is: 462.12700584101907 (on 1187 tests)\n",
      "Looking at the last 16 days, the MSE is: 461.01827701713324 (on 1174 tests)\n",
      "Looking at the last 17 days, the MSE is: 465.25165748869875 (on 1172 tests)\n",
      "Looking at the last 18 days, the MSE is: 456.74245655075197 (on 1160 tests)\n",
      "Looking at the last 19 days, the MSE is: 461.49306924633885 (on 1150 tests)\n"
     ]
    }
   ],
   "source": [
    "mses = []\n",
    "errors = []\n",
    "choices = [i for i in range(1, 20)]\n",
    "\n",
    "for prev_games in choices:\n",
    "    mse = 0\n",
    "    num_tests = 0\n",
    "    err = 0\n",
    "    num_bets = 0\n",
    "    for i, date in enumerate(dates):\n",
    "        if i < prev_games: continue\n",
    "\n",
    "        window = dates[i - prev_games:i]\n",
    "\n",
    "        window_data = in_data.loc[in_data['Date'].isin(window)]\n",
    "        test_window = in_data.loc[in_data['Date'].isin(dates[i:i + 1])]\n",
    "\n",
    "        model = train_model(window_data)\n",
    "        cur_se, cur_tests, cur_errors, cur_bets = test_model(test_window, model)\n",
    "\n",
    "        mse += cur_se\n",
    "        num_tests += cur_tests\n",
    "        err += cur_errors\n",
    "        num_bets += cur_bets\n",
    "        \n",
    "    mses.append(mse/num_tests)\n",
    "    errors.append(err/num_bets)\n",
    "\n",
    "    print(\"Looking at the last {} days, the MSE is: {} (on {} tests)\".format(prev_games, mse/num_tests, num_tests))"
   ]
  },
  {
   "cell_type": "code",
   "execution_count": 56,
   "metadata": {},
   "outputs": [
    {
     "data": {
      "text/plain": [
       "[<matplotlib.lines.Line2D at 0x11bc1fcc0>]"
      ]
     },
     "execution_count": 56,
     "metadata": {},
     "output_type": "execute_result"
    },
    {
     "data": {
      "image/png": "[encoded data removed]",
      "text/plain": [
       "<Figure size 432x288 with 1 Axes>"
      ]
     },
     "metadata": {
      "needs_background": "light"
     },
     "output_type": "display_data"
    }
   ],
   "source": [
    "plt.plot(choices, mses)"
   ]
  },
  {
   "cell_type": "code",
   "execution_count": 57,
   "metadata": {},
   "outputs": [
    {
     "data": {
      "text/plain": [
       "[<matplotlib.lines.Line2D at 0x11bd324a8>]"
      ]
     },
     "execution_count": 57,
     "metadata": {},
     "output_type": "execute_result"
    },
    {
     "data": {
      "image/png": "[encoded data removed]",
      "text/plain": [
       "<Figure size 432x288 with 1 Axes>"
      ]
     },
     "metadata": {
      "needs_background": "light"
     },
     "output_type": "display_data"
    }
   ],
   "source": [
    "plt.plot(choices, errors)"
   ]
  },
  {
   "cell_type": "code",
   "execution_count": null,
   "metadata": {},
   "outputs": [],
   "source": []
  }
 ],
 "metadata": {
  "kernelspec": {
   "display_name": "Python 3",
   "language": "python",
   "name": "python3"
  },
  "language_info": {
   "codemirror_mode": {
    "name": "ipython",
    "version": 3
   },
   "file_extension": ".py",
   "mimetype": "text/x-python",
   "name": "python",
   "nbconvert_exporter": "python",
   "pygments_lexer": "ipython3",
   "version": "3.7.1"
  }
 },
 "nbformat": 4,
 "nbformat_minor": 2
}
