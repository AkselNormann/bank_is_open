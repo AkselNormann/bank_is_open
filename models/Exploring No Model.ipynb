{
 "cells": [
  {
   "cell_type": "markdown",
   "metadata": {},
   "source": [
    "# Baseline: how well do odd-makers do?"
   ]
  },
  {
   "cell_type": "code",
   "execution_count": 1,
   "metadata": {},
   "outputs": [],
   "source": [
    "# for data manipulation\n",
    "import numpy as np\n",
    "import pandas as pd\n",
    "import os\n",
    "\n",
    "# plotting \n",
    "import matplotlib.pyplot as plt"
   ]
  },
  {
   "cell_type": "code",
   "execution_count": 2,
   "metadata": {},
   "outputs": [],
   "source": [
    "odds_data_path = \"data/odds_data_processed/\"\n",
    "odds_files = os.listdir(odds_data_path)"
   ]
  },
  {
   "cell_type": "code",
   "execution_count": 4,
   "metadata": {},
   "outputs": [
    {
     "name": "stdout",
     "output_type": "stream",
     "text": [
      "-----\n",
      "2007-2008.csv\n",
      "69.0\n",
      "MSE: 330.8097826086956\n",
      "Fraction of over-estimates: 0.5085403726708074:\n",
      "-----\n",
      "2008-2009.csv\n",
      "54.5\n",
      "MSE: 316.19750957854404\n",
      "Fraction of over-estimates: 0.49885057471264366:\n",
      "-----\n",
      "2009-2010.csv\n",
      "54.0\n",
      "MSE: 290.1080078125\n",
      "Fraction of over-estimates: 0.49921875:\n",
      "-----\n",
      "2010-2011.csv\n",
      "61.0\n",
      "MSE: 360.85392385392385\n",
      "Fraction of over-estimates: 0.5042735042735043:\n",
      "-----\n",
      "2011-2012.csv\n",
      "47.0\n",
      "MSE: 298.17571428571426\n",
      "Fraction of over-estimates: 0.5:\n",
      "-----\n",
      "2012-2013.csv\n",
      "53.0\n",
      "MSE: 331.1153400309119\n",
      "Fraction of over-estimates: 0.4899536321483771:\n",
      "-----\n",
      "2013-2014.csv\n",
      "52.5\n",
      "MSE: 297.45800933125975\n",
      "Fraction of over-estimates: 0.4813374805598756:\n",
      "-----\n",
      "2014-2015.csv\n",
      "59.5\n",
      "MSE: 337.3053390491037\n",
      "Fraction of over-estimates: 0.5089633671083398:\n",
      "-----\n",
      "2015-2016.csv\n",
      "53.0\n",
      "MSE: 314.04584304584307\n",
      "Fraction of over-estimates: 0.5081585081585082:\n",
      "-----\n",
      "2016-2017.csv\n",
      "50.0\n",
      "MSE: 301.6675237341772\n",
      "Fraction of over-estimates: 0.49050632911392406:\n",
      "-----\n",
      "2017-2018.csv\n",
      "49.0\n",
      "MSE: 333.5791338582677\n",
      "Fraction of over-estimates: 0.5125984251968504:\n",
      "-----\n",
      "2018-2019.csv\n",
      "53.0\n",
      "MSE: 372.2020202020202\n",
      "Fraction of over-estimates: 0.468013468013468:\n"
     ]
    }
   ],
   "source": [
    "mean_se = 0\n",
    "obs = 0\n",
    "    \n",
    "for file in odds_files:\n",
    "    if \".csv\" not in file: continue\n",
    "        \n",
    "    print(\"-----\")\n",
    "    print(file)\n",
    "    \n",
    "    odds = pd.read_csv(odds_data_path + file)\n",
    "\n",
    "    pred = np.array(odds.OU)\n",
    "    target = np.array(odds.Points)\n",
    "    \n",
    "    pred = pred[pred > 0]\n",
    "    target = target[pred > 0]\n",
    "    \n",
    "    print(np.max(pred - target))\n",
    "    \n",
    "    #### MSE\n",
    "    error = pred - target\n",
    "    sq_error = error * error\n",
    "    mse = np.mean(sq_error)\n",
    "    print(\"MSE: {}\".format(mse))\n",
    "    \n",
    "    #### Over vs. Under Estimation\n",
    "    over = np.sum(pred > target)/len(pred)\n",
    "    print(\"Fraction of over-estimates: {}:\".format(over))\n",
    "    \n",
    "    mean_se += mse*len(sq_error)\n",
    "    obs += len(sq_error)\n",
    "    \n",
    "    "
   ]
  },
  {
   "cell_type": "code",
   "execution_count": 5,
   "metadata": {},
   "outputs": [
    {
     "data": {
      "text/plain": [
       "320.6957754915087"
      ]
     },
     "execution_count": 5,
     "metadata": {},
     "output_type": "execute_result"
    }
   ],
   "source": [
    "mean_se/obs"
   ]
  },
  {
   "cell_type": "code",
   "execution_count": null,
   "metadata": {},
   "outputs": [],
   "source": []
  }
 ],
 "metadata": {
  "kernelspec": {
   "display_name": "Python 3",
   "language": "python",
   "name": "python3"
  },
  "language_info": {
   "codemirror_mode": {
    "name": "ipython",
    "version": 3
   },
   "file_extension": ".py",
   "mimetype": "text/x-python",
   "name": "python",
   "nbconvert_exporter": "python",
   "pygments_lexer": "ipython3",
   "version": "3.7.1"
  }
 },
 "nbformat": 4,
 "nbformat_minor": 2
}
