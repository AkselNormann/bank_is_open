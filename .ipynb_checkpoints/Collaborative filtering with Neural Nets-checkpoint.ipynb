{
 "cells": [
  {
   "cell_type": "markdown",
   "metadata": {},
   "source": [
    "# Collaborative Filtering with Neural Nets"
   ]
  },
  {
   "cell_type": "code",
   "execution_count": 77,
   "metadata": {},
   "outputs": [],
   "source": [
    "# for data manipulation\n",
    "import numpy as np\n",
    "import pandas as pd\n",
    "import os\n",
    "\n",
    "# use surprise for collaborative filtering\n",
    "import torch\n",
    "import torch.nn as nn\n",
    "from torch.autograd import Variable"
   ]
  },
  {
   "cell_type": "markdown",
   "metadata": {},
   "source": [
    "## Read in data"
   ]
  },
  {
   "cell_type": "markdown",
   "metadata": {},
   "source": [
    "#### Game data"
   ]
  },
  {
   "cell_type": "code",
   "execution_count": 2,
   "metadata": {},
   "outputs": [],
   "source": [
    "game_data_path = \"data/final_game_data/\"\n",
    "files = os.listdir(game_data_path)\n",
    "season = pd.read_csv(game_data_path + files[0])"
   ]
  },
  {
   "cell_type": "code",
   "execution_count": 3,
   "metadata": {},
   "outputs": [
    {
     "data": {
      "text/plain": [
       "(2632, 98)"
      ]
     },
     "execution_count": 3,
     "metadata": {},
     "output_type": "execute_result"
    }
   ],
   "source": [
    "season.shape"
   ]
  },
  {
   "cell_type": "markdown",
   "metadata": {},
   "source": [
    "#### Odds data"
   ]
  },
  {
   "cell_type": "code",
   "execution_count": 4,
   "metadata": {},
   "outputs": [],
   "source": [
    "odds_data_path = \"data/odds_data_processed/\"\n",
    "odds_files = os.listdir(odds_data_path)"
   ]
  },
  {
   "cell_type": "code",
   "execution_count": 5,
   "metadata": {},
   "outputs": [],
   "source": [
    "odds = pd.read_csv(odds_data_path + odds_files[1])"
   ]
  },
  {
   "cell_type": "code",
   "execution_count": 6,
   "metadata": {},
   "outputs": [
    {
     "data": {
      "text/plain": [
       "(1288, 13)"
      ]
     },
     "execution_count": 6,
     "metadata": {},
     "output_type": "execute_result"
    }
   ],
   "source": [
    "odds = odds.drop(['Unnamed: 0'], axis = 1)\n",
    "odds.shape"
   ]
  },
  {
   "cell_type": "code",
   "execution_count": 7,
   "metadata": {},
   "outputs": [
    {
     "data": {
      "text/plain": [
       "Index(['Date', 'Home', 'Away', 'OU', 'Spread', 'OU_2H', 'Spread_2H', 'ML_home',\n",
       "       'ML_away', 'Points', 'Win Margin', '2H Points', '2H Win Margin'],\n",
       "      dtype='object')"
      ]
     },
     "execution_count": 7,
     "metadata": {},
     "output_type": "execute_result"
    }
   ],
   "source": [
    "odds.columns"
   ]
  },
  {
   "cell_type": "markdown",
   "metadata": {},
   "source": [
    "#### Reconciling names"
   ]
  },
  {
   "cell_type": "code",
   "execution_count": 8,
   "metadata": {},
   "outputs": [
    {
     "name": "stdout",
     "output_type": "stream",
     "text": [
      "LA Lakers\n",
      "LA Clippers\n"
     ]
    }
   ],
   "source": [
    "season_names = {'Golden State Warriors':'GSW',\n",
    "                'Los Angeles Lakers': 'LAL',\n",
    "                'San Antonio Spurs': 'SAS',\n",
    "                'Cleveland Cavaliers': 'CLE',\n",
    "                'Denver Nuggets': 'DEN',\n",
    "                'Indiana Pacers': 'IND',\n",
    "                'Memphis Grizzlies': 'MEM',\n",
    "                'New Jersey Nets': 'BRK',\n",
    "                'Brooklyn Nets': 'BRK',\n",
    "                'New Orleans Hornets': 'NOP',\n",
    "                'New Orleans Pelicans': 'NOP',\n",
    "                'Orlando Magic': 'ORL',\n",
    "                'Toronto Raptors': 'TOR',\n",
    "                'Miami Heat': 'MIA',\n",
    "                'Seattle SuperSonics': 'SEA',\n",
    "                'Utah Jazz': 'UTA',\n",
    "                'Atlanta Hawks': 'ATL',\n",
    "                'Boston Celtics': 'BOS',\n",
    "                'Charlotte Bobcats': 'CHA',\n",
    "                'Charlotte Hornets': 'CHA',\n",
    "                'Chicago Bulls': 'CHI',\n",
    "                'Los Angeles Clippers': 'LAC',\n",
    "                'Minnesota Timberwolves': 'MIN',\n",
    "                'Phoenix Suns': 'PHO',\n",
    "                'Dallas Mavericks': 'DAL',\n",
    "                'Houston Rockets': 'HOU',\n",
    "                'Milwaukee Bucks': 'MIL',\n",
    "                'Philadelphia 76ers': 'PHI',\n",
    "                'Washington Wizards': 'WAS',\n",
    "                'Detroit Pistons': 'DET',\n",
    "                'New York Knicks': 'NYK',\n",
    "                'Sacramento Kings': 'SAC',\n",
    "                'Portland Trail Blazers': 'POR',\n",
    "                'Oklahoma City Thunder': 'OKC'\n",
    "        }\n",
    "odds_names = {}\n",
    "for name in list(pd.unique(odds.Home)):\n",
    "    found = False\n",
    "    for s_name in season_names:\n",
    "        if name in s_name:\n",
    "            found = True\n",
    "            odds_names[name] = season_names[s_name]\n",
    "    if not found: print(name)\n",
    "odds_names[\"LA Lakers\"] = \"LAL\"\n",
    "odds_names[\"LA Clippers\"] = \"LAC\"\n",
    "odds_names[\"Okla City\"] = \"OKC\""
   ]
  },
  {
   "cell_type": "code",
   "execution_count": 9,
   "metadata": {},
   "outputs": [],
   "source": [
    "odds[\"Home\"] = odds[\"Home\"].apply(lambda x: odds_names[x])\n",
    "odds[\"Away\"] = odds[\"Away\"].apply(lambda x: odds_names[x])\n",
    "\n",
    "season[\"team\"] = season[\"team\"].apply(lambda x: season_names[x])\n",
    "season[\"opponent\"] = season[\"opponent\"].apply(lambda x: season_names[x])"
   ]
  },
  {
   "cell_type": "markdown",
   "metadata": {},
   "source": [
    "#### Merging the two data tables"
   ]
  },
  {
   "cell_type": "code",
   "execution_count": 10,
   "metadata": {},
   "outputs": [],
   "source": [
    "def make_index(row, col1, col2, col3):\n",
    "    return str(row[col1]) + str(row[col2]) + str(row[col3])\n",
    "\n",
    "def find_category(row):\n",
    "    ref = row[\"Index\"]\n",
    "    if row[\"home\"] == 0:\n",
    "        ref = ref[:-6] + ref[-3:] + ref[-6:-3]\n",
    "    odds_row = odds.loc[odds[\"Index\"] == ref]\n",
    "    #print(list(odds_row[\"Points\"]))\n",
    "    try:\n",
    "        return list(odds_row[\"Points\"])[0]\n",
    "    except:\n",
    "        return 0\n",
    "\n",
    "season[\"date\"] = season[\"date\"].apply(lambda x: str(x)[:-1])\n",
    "\n",
    "season[\"Index\"] = season.apply(lambda x: make_index(x, \"date\", \"team\", \"opponent\"), axis=1)\n",
    "\n",
    "odds[\"Date\"] = odds[\"Date\"].apply(lambda x: \"\".join(x.split(\"-\")))\n",
    "\n",
    "odds[\"Index\"] = odds.apply(lambda x: make_index(x, \"Date\", \"Home\", \"Away\"), axis=1)"
   ]
  },
  {
   "cell_type": "code",
   "execution_count": 11,
   "metadata": {},
   "outputs": [],
   "source": [
    "season[\"Outcome\"] = season.apply(lambda x: find_category(x), axis = 1) ##### CHANGE THIS TO DEAL WITH OTHER INDICES\n",
    "\n",
    "#merged = merged.drop([\"Unnamed: 0_x\", \"Unnamed: 0_y\", \"date\", \"Home\", \"Away\", \"index\"], axis = 1)"
   ]
  },
  {
   "cell_type": "code",
   "execution_count": 12,
   "metadata": {},
   "outputs": [
    {
     "data": {
      "text/html": [
       "<div>\n",
       "<style scoped>\n",
       "    .dataframe tbody tr th:only-of-type {\n",
       "        vertical-align: middle;\n",
       "    }\n",
       "\n",
       "    .dataframe tbody tr th {\n",
       "        vertical-align: top;\n",
       "    }\n",
       "\n",
       "    .dataframe thead th {\n",
       "        text-align: right;\n",
       "    }\n",
       "</style>\n",
       "<table border=\"1\" class=\"dataframe\">\n",
       "  <thead>\n",
       "    <tr style=\"text-align: right;\">\n",
       "      <th></th>\n",
       "      <th>Unnamed: 0</th>\n",
       "      <th>team</th>\n",
       "      <th>opponent</th>\n",
       "      <th>date</th>\n",
       "      <th>index</th>\n",
       "      <th>team_STL%</th>\n",
       "      <th>team_FT</th>\n",
       "      <th>team_2PA</th>\n",
       "      <th>team_FG</th>\n",
       "      <th>team_DRB</th>\n",
       "      <th>...</th>\n",
       "      <th>opponent_TRB</th>\n",
       "      <th>opponent_FTA</th>\n",
       "      <th>opponent_BLK</th>\n",
       "      <th>opponent_FTr</th>\n",
       "      <th>opponent_TS%</th>\n",
       "      <th>opponent_FT/FGA</th>\n",
       "      <th>opponent_3P%</th>\n",
       "      <th>home</th>\n",
       "      <th>Index</th>\n",
       "      <th>Outcome</th>\n",
       "    </tr>\n",
       "  </thead>\n",
       "  <tbody>\n",
       "    <tr>\n",
       "      <th>1877</th>\n",
       "      <td>1877</td>\n",
       "      <td>POR</td>\n",
       "      <td>CLE</td>\n",
       "      <td>20080310</td>\n",
       "      <td>Cleveland Cavaliers64</td>\n",
       "      <td>6.3</td>\n",
       "      <td>12.0</td>\n",
       "      <td>57.0</td>\n",
       "      <td>31.0</td>\n",
       "      <td>27.0</td>\n",
       "      <td>...</td>\n",
       "      <td>39.0</td>\n",
       "      <td>33.0</td>\n",
       "      <td>4.0</td>\n",
       "      <td>0.485</td>\n",
       "      <td>0.533204</td>\n",
       "      <td>0.367647</td>\n",
       "      <td>0.357143</td>\n",
       "      <td>0</td>\n",
       "      <td>20080310PORCLE</td>\n",
       "      <td>168</td>\n",
       "    </tr>\n",
       "    <tr>\n",
       "      <th>1537</th>\n",
       "      <td>1537</td>\n",
       "      <td>PHO</td>\n",
       "      <td>GSW</td>\n",
       "      <td>20080213</td>\n",
       "      <td>Golden State Warriors52</td>\n",
       "      <td>5.0</td>\n",
       "      <td>21.0</td>\n",
       "      <td>66.0</td>\n",
       "      <td>45.0</td>\n",
       "      <td>33.0</td>\n",
       "      <td>...</td>\n",
       "      <td>34.0</td>\n",
       "      <td>13.0</td>\n",
       "      <td>2.0</td>\n",
       "      <td>0.135</td>\n",
       "      <td>0.589855</td>\n",
       "      <td>0.083333</td>\n",
       "      <td>0.380952</td>\n",
       "      <td>0</td>\n",
       "      <td>20080213PHOGSW</td>\n",
       "      <td>238</td>\n",
       "    </tr>\n",
       "    <tr>\n",
       "      <th>194</th>\n",
       "      <td>194</td>\n",
       "      <td>IND</td>\n",
       "      <td>BOS</td>\n",
       "      <td>20071113</td>\n",
       "      <td>Indiana Pacers7</td>\n",
       "      <td>2.1</td>\n",
       "      <td>20.0</td>\n",
       "      <td>58.0</td>\n",
       "      <td>29.0</td>\n",
       "      <td>31.0</td>\n",
       "      <td>...</td>\n",
       "      <td>42.0</td>\n",
       "      <td>44.0</td>\n",
       "      <td>8.0</td>\n",
       "      <td>0.603</td>\n",
       "      <td>0.546773</td>\n",
       "      <td>0.452055</td>\n",
       "      <td>0.285714</td>\n",
       "      <td>1</td>\n",
       "      <td>20071113INDBOS</td>\n",
       "      <td>187</td>\n",
       "    </tr>\n",
       "    <tr>\n",
       "      <th>1090</th>\n",
       "      <td>1090</td>\n",
       "      <td>TOR</td>\n",
       "      <td>POR</td>\n",
       "      <td>20080113</td>\n",
       "      <td>Toronto Raptors37</td>\n",
       "      <td>3.9</td>\n",
       "      <td>18.0</td>\n",
       "      <td>73.0</td>\n",
       "      <td>45.0</td>\n",
       "      <td>37.0</td>\n",
       "      <td>...</td>\n",
       "      <td>52.0</td>\n",
       "      <td>14.0</td>\n",
       "      <td>3.0</td>\n",
       "      <td>0.131</td>\n",
       "      <td>0.481619</td>\n",
       "      <td>0.121495</td>\n",
       "      <td>0.380952</td>\n",
       "      <td>1</td>\n",
       "      <td>20080113TORPOR</td>\n",
       "      <td>225</td>\n",
       "    </tr>\n",
       "    <tr>\n",
       "      <th>2328</th>\n",
       "      <td>2328</td>\n",
       "      <td>HOU</td>\n",
       "      <td>SEA</td>\n",
       "      <td>20080409</td>\n",
       "      <td>Houston Rockets78</td>\n",
       "      <td>4.4</td>\n",
       "      <td>13.0</td>\n",
       "      <td>47.0</td>\n",
       "      <td>39.0</td>\n",
       "      <td>39.0</td>\n",
       "      <td>...</td>\n",
       "      <td>35.0</td>\n",
       "      <td>19.0</td>\n",
       "      <td>3.0</td>\n",
       "      <td>0.216</td>\n",
       "      <td>0.415110</td>\n",
       "      <td>0.159091</td>\n",
       "      <td>0.250000</td>\n",
       "      <td>1</td>\n",
       "      <td>20080409HOUSEA</td>\n",
       "      <td>183</td>\n",
       "    </tr>\n",
       "  </tbody>\n",
       "</table>\n",
       "<p>5 rows × 100 columns</p>\n",
       "</div>"
      ],
      "text/plain": [
       "      Unnamed: 0 team opponent      date                    index  team_STL%  \\\n",
       "1877        1877  POR      CLE  20080310    Cleveland Cavaliers64        6.3   \n",
       "1537        1537  PHO      GSW  20080213  Golden State Warriors52        5.0   \n",
       "194          194  IND      BOS  20071113          Indiana Pacers7        2.1   \n",
       "1090        1090  TOR      POR  20080113        Toronto Raptors37        3.9   \n",
       "2328        2328  HOU      SEA  20080409        Houston Rockets78        4.4   \n",
       "\n",
       "      team_FT  team_2PA  team_FG  team_DRB   ...     opponent_TRB  \\\n",
       "1877     12.0      57.0     31.0      27.0   ...             39.0   \n",
       "1537     21.0      66.0     45.0      33.0   ...             34.0   \n",
       "194      20.0      58.0     29.0      31.0   ...             42.0   \n",
       "1090     18.0      73.0     45.0      37.0   ...             52.0   \n",
       "2328     13.0      47.0     39.0      39.0   ...             35.0   \n",
       "\n",
       "      opponent_FTA  opponent_BLK  opponent_FTr  opponent_TS%  opponent_FT/FGA  \\\n",
       "1877          33.0           4.0         0.485      0.533204         0.367647   \n",
       "1537          13.0           2.0         0.135      0.589855         0.083333   \n",
       "194           44.0           8.0         0.603      0.546773         0.452055   \n",
       "1090          14.0           3.0         0.131      0.481619         0.121495   \n",
       "2328          19.0           3.0         0.216      0.415110         0.159091   \n",
       "\n",
       "      opponent_3P%  home           Index  Outcome  \n",
       "1877      0.357143     0  20080310PORCLE      168  \n",
       "1537      0.380952     0  20080213PHOGSW      238  \n",
       "194       0.285714     1  20071113INDBOS      187  \n",
       "1090      0.380952     1  20080113TORPOR      225  \n",
       "2328      0.250000     1  20080409HOUSEA      183  \n",
       "\n",
       "[5 rows x 100 columns]"
      ]
     },
     "execution_count": 12,
     "metadata": {},
     "output_type": "execute_result"
    }
   ],
   "source": [
    "season.sample(5)"
   ]
  },
  {
   "cell_type": "code",
   "execution_count": 13,
   "metadata": {},
   "outputs": [],
   "source": [
    "in_data = season.set_index(\"Index\")\n",
    "in_data = in_data.drop([\"index\", \"Unnamed: 0\"], axis = 1)\n",
    "in_data = in_data.sort_index()"
   ]
  },
  {
   "cell_type": "code",
   "execution_count": 14,
   "metadata": {},
   "outputs": [
    {
     "data": {
      "text/plain": [
       "(2632, 97)"
      ]
     },
     "execution_count": 14,
     "metadata": {},
     "output_type": "execute_result"
    }
   ],
   "source": [
    "in_data.shape"
   ]
  },
  {
   "cell_type": "code",
   "execution_count": 15,
   "metadata": {},
   "outputs": [
    {
     "data": {
      "text/html": [
       "<div>\n",
       "<style scoped>\n",
       "    .dataframe tbody tr th:only-of-type {\n",
       "        vertical-align: middle;\n",
       "    }\n",
       "\n",
       "    .dataframe tbody tr th {\n",
       "        vertical-align: top;\n",
       "    }\n",
       "\n",
       "    .dataframe thead th {\n",
       "        text-align: right;\n",
       "    }\n",
       "</style>\n",
       "<table border=\"1\" class=\"dataframe\">\n",
       "  <thead>\n",
       "    <tr style=\"text-align: right;\">\n",
       "      <th></th>\n",
       "      <th>team</th>\n",
       "      <th>opponent</th>\n",
       "      <th>date</th>\n",
       "      <th>team_STL%</th>\n",
       "      <th>team_FT</th>\n",
       "      <th>team_2PA</th>\n",
       "      <th>team_FG</th>\n",
       "      <th>team_DRB</th>\n",
       "      <th>team_ORB%</th>\n",
       "      <th>team_AST</th>\n",
       "      <th>...</th>\n",
       "      <th>opponent_STL</th>\n",
       "      <th>opponent_TRB</th>\n",
       "      <th>opponent_FTA</th>\n",
       "      <th>opponent_BLK</th>\n",
       "      <th>opponent_FTr</th>\n",
       "      <th>opponent_TS%</th>\n",
       "      <th>opponent_FT/FGA</th>\n",
       "      <th>opponent_3P%</th>\n",
       "      <th>home</th>\n",
       "      <th>Outcome</th>\n",
       "    </tr>\n",
       "    <tr>\n",
       "      <th>Index</th>\n",
       "      <th></th>\n",
       "      <th></th>\n",
       "      <th></th>\n",
       "      <th></th>\n",
       "      <th></th>\n",
       "      <th></th>\n",
       "      <th></th>\n",
       "      <th></th>\n",
       "      <th></th>\n",
       "      <th></th>\n",
       "      <th></th>\n",
       "      <th></th>\n",
       "      <th></th>\n",
       "      <th></th>\n",
       "      <th></th>\n",
       "      <th></th>\n",
       "      <th></th>\n",
       "      <th></th>\n",
       "      <th></th>\n",
       "      <th></th>\n",
       "      <th></th>\n",
       "    </tr>\n",
       "  </thead>\n",
       "  <tbody>\n",
       "    <tr>\n",
       "      <th>20080214CHIMIA</th>\n",
       "      <td>CHI</td>\n",
       "      <td>MIA</td>\n",
       "      <td>20080214</td>\n",
       "      <td>7.3</td>\n",
       "      <td>20.0</td>\n",
       "      <td>72.0</td>\n",
       "      <td>38.0</td>\n",
       "      <td>40.0</td>\n",
       "      <td>29.5</td>\n",
       "      <td>19.0</td>\n",
       "      <td>...</td>\n",
       "      <td>7.0</td>\n",
       "      <td>35.0</td>\n",
       "      <td>23.0</td>\n",
       "      <td>4.0</td>\n",
       "      <td>0.311</td>\n",
       "      <td>0.546838</td>\n",
       "      <td>0.189189</td>\n",
       "      <td>0.47619</td>\n",
       "      <td>1</td>\n",
       "      <td>191</td>\n",
       "    </tr>\n",
       "  </tbody>\n",
       "</table>\n",
       "<p>1 rows × 97 columns</p>\n",
       "</div>"
      ],
      "text/plain": [
       "               team opponent      date  team_STL%  team_FT  team_2PA  team_FG  \\\n",
       "Index                                                                           \n",
       "20080214CHIMIA  CHI      MIA  20080214        7.3     20.0      72.0     38.0   \n",
       "\n",
       "                team_DRB  team_ORB%  team_AST   ...     opponent_STL  \\\n",
       "Index                                           ...                    \n",
       "20080214CHIMIA      40.0       29.5      19.0   ...              7.0   \n",
       "\n",
       "                opponent_TRB  opponent_FTA  opponent_BLK  opponent_FTr  \\\n",
       "Index                                                                    \n",
       "20080214CHIMIA          35.0          23.0           4.0         0.311   \n",
       "\n",
       "                opponent_TS%  opponent_FT/FGA  opponent_3P%  home  Outcome  \n",
       "Index                                                                       \n",
       "20080214CHIMIA      0.546838         0.189189       0.47619     1      191  \n",
       "\n",
       "[1 rows x 97 columns]"
      ]
     },
     "execution_count": 15,
     "metadata": {},
     "output_type": "execute_result"
    }
   ],
   "source": [
    "in_data.sample(1)"
   ]
  },
  {
   "cell_type": "markdown",
   "metadata": {},
   "source": [
    "## Extracting the data"
   ]
  },
  {
   "cell_type": "code",
   "execution_count": 16,
   "metadata": {},
   "outputs": [],
   "source": [
    "### for every team: past 3 games stats (them and opponent) + opponent season averages"
   ]
  },
  {
   "cell_type": "markdown",
   "metadata": {},
   "source": [
    "#### Computing running season averages by team"
   ]
  },
  {
   "cell_type": "code",
   "execution_count": 17,
   "metadata": {},
   "outputs": [],
   "source": [
    "dates = pd.unique(in_data.date)\n",
    "\n",
    "season_averages = {}\n",
    "\n",
    "for date in dates:\n",
    "    # get all past games\n",
    "    past_games = in_data[in_data.date < date]\n",
    "    # means\n",
    "    season_averages[date] = past_games.groupby('team').mean()"
   ]
  },
  {
   "cell_type": "markdown",
   "metadata": {},
   "source": [
    "#### Computing the past n games for every matchup"
   ]
  },
  {
   "cell_type": "code",
   "execution_count": 18,
   "metadata": {},
   "outputs": [],
   "source": [
    "n = 3\n",
    "home_only = in_data[in_data.home == 1]"
   ]
  },
  {
   "cell_type": "code",
   "execution_count": 32,
   "metadata": {},
   "outputs": [],
   "source": [
    "## build a list of games for every team\n",
    "past_n = {}\n",
    "\n",
    "for date in dates:\n",
    "    team_map = {}\n",
    "    past_games = in_data[in_data.date < date]\n",
    "    for team in pd.unique(home_only.team):\n",
    "        #get the past games for team\n",
    "        past_team = past_games[past_games.team == team].tail(3)\n",
    "        team_map[team] = past_team\n",
    "    past_n[date] = team_map        "
   ]
  },
  {
   "cell_type": "markdown",
   "metadata": {},
   "source": [
    "#### Making a dataset"
   ]
  },
  {
   "cell_type": "code",
   "execution_count": 60,
   "metadata": {},
   "outputs": [],
   "source": [
    "## one-hot encode team names\n",
    "teams = season_names.values()\n",
    "encoding = {}\n",
    "index = 0\n",
    "for team in teams:\n",
    "    if team not in encoding:\n",
    "        encoding[team] = index\n",
    "        index += 1\n",
    "        \n",
    "empty_list = [0 for j in range(index + 1)]\n",
    "encoded = {}\n",
    "for team in teams:\n",
    "    if team in encoded: continue\n",
    "    \n",
    "    copy = empty_list[:]\n",
    "    \n",
    "    i = encoding[team]\n",
    "    copy[i] = 1\n",
    "    encoded[team] = copy"
   ]
  },
  {
   "cell_type": "code",
   "execution_count": 69,
   "metadata": {},
   "outputs": [],
   "source": [
    "X = []\n",
    "y = []\n",
    "\n",
    "for i, row in home_only.iterrows():\n",
    "    \n",
    "    home_team = row[\"team\"]\n",
    "    away_team = row[\"opponent\"]\n",
    "    \n",
    "    date = row[\"date\"]\n",
    "    \n",
    "    past_n_home = past_n[date][home_team]\n",
    "    past_n_away = past_n[date][away_team]\n",
    "    \n",
    "    avgs = season_averages[date]\n",
    "    \n",
    "    if past_n_home.shape[0] < n or past_n_away.shape[0] < n: continue\n",
    "    \n",
    "    ################ AWAY TEAM PAST GAMES\n",
    "    data_home = []\n",
    "    for j, row_2 in past_n_home.iterrows():\n",
    "        cur_data = []\n",
    "\n",
    "        team = row[\"team\"]\n",
    "        opponent = row[\"opponent\"]\n",
    "\n",
    "        cur_data.extend(encoded[team])\n",
    "        cur_data.extend(encoded[opponent])\n",
    "        cur_data.extend(row.drop([\"team\", \"opponent\", \"date\"]).values)\n",
    "\n",
    "        opp_stats = avgs.loc[opponent].values\n",
    "\n",
    "        cur_data.extend(opp_stats)\n",
    "\n",
    "        data_home.append(cur_data)\n",
    "    \n",
    "    ################ AWAY TEAM PAST GAMES\n",
    "    data_away = []\n",
    "    for j, row_2 in past_n_away.iterrows():\n",
    "        cur_data = []\n",
    "\n",
    "        team = row[\"team\"]\n",
    "        opponent = row[\"opponent\"]\n",
    "\n",
    "        cur_data.extend(encoded[team])\n",
    "        cur_data.extend(encoded[opponent])\n",
    "        cur_data.extend(row.drop([\"team\", \"opponent\", \"date\"]).values)\n",
    "\n",
    "        opp_stats = avgs.loc[opponent].values\n",
    "\n",
    "        cur_data.extend(opp_stats)\n",
    "\n",
    "        data_away.append(cur_data)\n",
    "    \n",
    "    ################ MERGE THE TWO\n",
    "    data = []\n",
    "    for i in range(len(data_home)):\n",
    "        cur_data = data_home[i]\n",
    "        cur_data.extend(data_away[i])\n",
    "        data.append(cur_data)\n",
    "    \n",
    "    X.append(data)\n",
    "    y.append(row[\"Outcome\"])"
   ]
  },
  {
   "cell_type": "code",
   "execution_count": 72,
   "metadata": {},
   "outputs": [],
   "source": [
    "X = np.array(X)\n",
    "y = np.array(y)"
   ]
  },
  {
   "cell_type": "code",
   "execution_count": null,
   "metadata": {},
   "outputs": [],
   "source": []
  }
 ],
 "metadata": {
  "kernelspec": {
   "display_name": "Python 3",
   "language": "python",
   "name": "python3"
  },
  "language_info": {
   "codemirror_mode": {
    "name": "ipython",
    "version": 3
   },
   "file_extension": ".py",
   "mimetype": "text/x-python",
   "name": "python",
   "nbconvert_exporter": "python",
   "pygments_lexer": "ipython3",
   "version": "3.7.1"
  }
 },
 "nbformat": 4,
 "nbformat_minor": 2
}
