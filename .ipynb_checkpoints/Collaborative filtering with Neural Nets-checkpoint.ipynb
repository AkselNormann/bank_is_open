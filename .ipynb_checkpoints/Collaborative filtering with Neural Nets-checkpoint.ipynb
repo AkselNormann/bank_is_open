{
 "cells": [
  {
   "cell_type": "markdown",
   "metadata": {},
   "source": [
    "# Collaborative Filtering with Neural Nets"
   ]
  },
  {
   "cell_type": "code",
   "execution_count": 55,
   "metadata": {},
   "outputs": [],
   "source": [
    "# for data manipulation\n",
    "import numpy as np\n",
    "import pandas as pd\n",
    "import os\n",
    "\n",
    "# use surprise for collaborative filtering\n",
    "from surprise import Reader, Dataset\n",
    "from surprise import SVD, evaluate\n",
    "from surprise import NMF"
   ]
  },
  {
   "cell_type": "markdown",
   "metadata": {},
   "source": [
    "## Read in data"
   ]
  },
  {
   "cell_type": "markdown",
   "metadata": {},
   "source": [
    "#### Game data"
   ]
  },
  {
   "cell_type": "code",
   "execution_count": 105,
   "metadata": {},
   "outputs": [],
   "source": [
    "game_data_path = \"data/final_game_data/\"\n",
    "files = os.listdir(game_data_path)\n",
    "season = pd.read_csv(game_data_path + files[0])"
   ]
  },
  {
   "cell_type": "code",
   "execution_count": 106,
   "metadata": {},
   "outputs": [
    {
     "data": {
      "text/plain": [
       "(2632, 98)"
      ]
     },
     "execution_count": 106,
     "metadata": {},
     "output_type": "execute_result"
    }
   ],
   "source": [
    "season.shape"
   ]
  },
  {
   "cell_type": "markdown",
   "metadata": {},
   "source": [
    "#### Odds data"
   ]
  },
  {
   "cell_type": "code",
   "execution_count": 107,
   "metadata": {},
   "outputs": [],
   "source": [
    "odds_data_path = \"data/odds_data_processed/\"\n",
    "odds_files = os.listdir(odds_data_path)"
   ]
  },
  {
   "cell_type": "code",
   "execution_count": 108,
   "metadata": {},
   "outputs": [],
   "source": [
    "odds = pd.read_csv(odds_data_path + odds_files[1])"
   ]
  },
  {
   "cell_type": "code",
   "execution_count": 109,
   "metadata": {},
   "outputs": [
    {
     "data": {
      "text/plain": [
       "(1288, 13)"
      ]
     },
     "execution_count": 109,
     "metadata": {},
     "output_type": "execute_result"
    }
   ],
   "source": [
    "odds = odds.drop(['Unnamed: 0'], axis = 1)\n",
    "odds.shape"
   ]
  },
  {
   "cell_type": "code",
   "execution_count": 110,
   "metadata": {},
   "outputs": [
    {
     "data": {
      "text/plain": [
       "Index(['Date', 'Home', 'Away', 'OU', 'Spread', 'OU_2H', 'Spread_2H', 'ML_home',\n",
       "       'ML_away', 'Points', 'Win Margin', '2H Points', '2H Win Margin'],\n",
       "      dtype='object')"
      ]
     },
     "execution_count": 110,
     "metadata": {},
     "output_type": "execute_result"
    }
   ],
   "source": [
    "odds.columns"
   ]
  },
  {
   "cell_type": "markdown",
   "metadata": {},
   "source": [
    "#### Reconciling names"
   ]
  },
  {
   "cell_type": "code",
   "execution_count": 111,
   "metadata": {},
   "outputs": [
    {
     "name": "stdout",
     "output_type": "stream",
     "text": [
      "LA Lakers\n",
      "LA Clippers\n"
     ]
    }
   ],
   "source": [
    "season_names = {'Golden State Warriors':'GSW',\n",
    "                'Los Angeles Lakers': 'LAL',\n",
    "                'San Antonio Spurs': 'SAS',\n",
    "                'Cleveland Cavaliers': 'CLE',\n",
    "                'Denver Nuggets': 'DEN',\n",
    "                'Indiana Pacers': 'IND',\n",
    "                'Memphis Grizzlies': 'MEM',\n",
    "                'New Jersey Nets': 'BRK',\n",
    "                'Brooklyn Nets': 'BRK',\n",
    "                'New Orleans Hornets': 'NOP',\n",
    "                'New Orleans Pelicans': 'NOP',\n",
    "                'Orlando Magic': 'ORL',\n",
    "                'Toronto Raptors': 'TOR',\n",
    "                'Miami Heat': 'MIA',\n",
    "                'Seattle SuperSonics': 'SEA',\n",
    "                'Utah Jazz': 'UTA',\n",
    "                'Atlanta Hawks': 'ATL',\n",
    "                'Boston Celtics': 'BOS',\n",
    "                'Charlotte Bobcats': 'CHA',\n",
    "                'Charlotte Hornets': 'CHA',\n",
    "                'Chicago Bulls': 'CHI',\n",
    "                'Los Angeles Clippers': 'LAC',\n",
    "                'Minnesota Timberwolves': 'MIN',\n",
    "                'Phoenix Suns': 'PHO',\n",
    "                'Dallas Mavericks': 'DAL',\n",
    "                'Houston Rockets': 'HOU',\n",
    "                'Milwaukee Bucks': 'MIL',\n",
    "                'Philadelphia 76ers': 'PHI',\n",
    "                'Washington Wizards': 'WAS',\n",
    "                'Detroit Pistons': 'DET',\n",
    "                'New York Knicks': 'NYK',\n",
    "                'Sacramento Kings': 'SAC',\n",
    "                'Portland Trail Blazers': 'POR',\n",
    "                'Oklahoma City Thunder': 'OKC'\n",
    "        }\n",
    "odds_names = {}\n",
    "for name in list(pd.unique(odds.Home)):\n",
    "    found = False\n",
    "    for s_name in season_names:\n",
    "        if name in s_name:\n",
    "            found = True\n",
    "            odds_names[name] = season_names[s_name]\n",
    "    if not found: print(name)\n",
    "odds_names[\"LA Lakers\"] = \"LAL\"\n",
    "odds_names[\"LA Clippers\"] = \"LAC\"\n",
    "odds_names[\"Okla City\"] = \"OKC\""
   ]
  },
  {
   "cell_type": "code",
   "execution_count": 112,
   "metadata": {},
   "outputs": [],
   "source": [
    "odds[\"Home\"] = odds[\"Home\"].apply(lambda x: odds_names[x])\n",
    "odds[\"Away\"] = odds[\"Away\"].apply(lambda x: odds_names[x])\n",
    "\n",
    "season[\"team\"] = season[\"team\"].apply(lambda x: season_names[x])\n",
    "season[\"opponent\"] = season[\"opponent\"].apply(lambda x: season_names[x])"
   ]
  },
  {
   "cell_type": "markdown",
   "metadata": {},
   "source": [
    "#### Merging the two data tables"
   ]
  },
  {
   "cell_type": "code",
   "execution_count": 113,
   "metadata": {},
   "outputs": [],
   "source": [
    "def make_index(row, col1, col2, col3):\n",
    "    return str(row[col1]) + str(row[col2]) + str(row[col3])\n",
    "\n",
    "def find_category(row):\n",
    "    ref = row[\"Index\"]\n",
    "    if row[\"home\"] == 0:\n",
    "        ref = ref[:-6] + ref[-3:] + ref[-6:-3]\n",
    "    odds_row = odds.loc[odds[\"Index\"] == ref]\n",
    "    #print(list(odds_row[\"Points\"]))\n",
    "    try:\n",
    "        return list(odds_row[\"Points\"])[0]\n",
    "    except:\n",
    "        return 0\n",
    "\n",
    "season[\"date\"] = season[\"date\"].apply(lambda x: str(x)[:-1])\n",
    "\n",
    "season[\"Index\"] = season.apply(lambda x: make_index(x, \"date\", \"team\", \"opponent\"), axis=1)\n",
    "\n",
    "odds[\"Date\"] = odds[\"Date\"].apply(lambda x: \"\".join(x.split(\"-\")))\n",
    "\n",
    "odds[\"Index\"] = odds.apply(lambda x: make_index(x, \"Date\", \"Home\", \"Away\"), axis=1)"
   ]
  },
  {
   "cell_type": "code",
   "execution_count": 114,
   "metadata": {},
   "outputs": [],
   "source": [
    "season[\"Outcome\"] = season.apply(lambda x: find_category(x), axis = 1) ##### CHANGE THIS TO DEAL WITH OTHER INDICES\n",
    "\n",
    "#merged = merged.drop([\"Unnamed: 0_x\", \"Unnamed: 0_y\", \"date\", \"Home\", \"Away\", \"index\"], axis = 1)"
   ]
  },
  {
   "cell_type": "code",
   "execution_count": 118,
   "metadata": {},
   "outputs": [
    {
     "data": {
      "text/html": [
       "<div>\n",
       "<style scoped>\n",
       "    .dataframe tbody tr th:only-of-type {\n",
       "        vertical-align: middle;\n",
       "    }\n",
       "\n",
       "    .dataframe tbody tr th {\n",
       "        vertical-align: top;\n",
       "    }\n",
       "\n",
       "    .dataframe thead th {\n",
       "        text-align: right;\n",
       "    }\n",
       "</style>\n",
       "<table border=\"1\" class=\"dataframe\">\n",
       "  <thead>\n",
       "    <tr style=\"text-align: right;\">\n",
       "      <th></th>\n",
       "      <th>Unnamed: 0</th>\n",
       "      <th>team</th>\n",
       "      <th>opponent</th>\n",
       "      <th>date</th>\n",
       "      <th>index</th>\n",
       "      <th>team_STL%</th>\n",
       "      <th>team_FT</th>\n",
       "      <th>team_2PA</th>\n",
       "      <th>team_FG</th>\n",
       "      <th>team_DRB</th>\n",
       "      <th>...</th>\n",
       "      <th>opponent_TRB</th>\n",
       "      <th>opponent_FTA</th>\n",
       "      <th>opponent_BLK</th>\n",
       "      <th>opponent_FTr</th>\n",
       "      <th>opponent_TS%</th>\n",
       "      <th>opponent_FT/FGA</th>\n",
       "      <th>opponent_3P%</th>\n",
       "      <th>home</th>\n",
       "      <th>Index</th>\n",
       "      <th>Outcome</th>\n",
       "    </tr>\n",
       "  </thead>\n",
       "  <tbody>\n",
       "    <tr>\n",
       "      <th>1459</th>\n",
       "      <td>1459</td>\n",
       "      <td>POR</td>\n",
       "      <td>DET</td>\n",
       "      <td>20080208</td>\n",
       "      <td>Detroit Pistons49</td>\n",
       "      <td>6.3</td>\n",
       "      <td>16.0</td>\n",
       "      <td>67.0</td>\n",
       "      <td>33.0</td>\n",
       "      <td>24.0</td>\n",
       "      <td>...</td>\n",
       "      <td>37.0</td>\n",
       "      <td>15.0</td>\n",
       "      <td>7.0</td>\n",
       "      <td>0.205</td>\n",
       "      <td>0.571608</td>\n",
       "      <td>0.136986</td>\n",
       "      <td>0.562500</td>\n",
       "      <td>0</td>\n",
       "      <td>20080208PORDET</td>\n",
       "      <td>173</td>\n",
       "    </tr>\n",
       "    <tr>\n",
       "      <th>673</th>\n",
       "      <td>673</td>\n",
       "      <td>SAC</td>\n",
       "      <td>PHI</td>\n",
       "      <td>20071214</td>\n",
       "      <td>Philadelphia 76ers23</td>\n",
       "      <td>9.7</td>\n",
       "      <td>18.0</td>\n",
       "      <td>68.0</td>\n",
       "      <td>43.0</td>\n",
       "      <td>26.0</td>\n",
       "      <td>...</td>\n",
       "      <td>31.0</td>\n",
       "      <td>24.0</td>\n",
       "      <td>4.0</td>\n",
       "      <td>0.324</td>\n",
       "      <td>0.585383</td>\n",
       "      <td>0.216216</td>\n",
       "      <td>0.437500</td>\n",
       "      <td>0</td>\n",
       "      <td>20071214SACPHI</td>\n",
       "      <td>208</td>\n",
       "    </tr>\n",
       "    <tr>\n",
       "      <th>348</th>\n",
       "      <td>348</td>\n",
       "      <td>ORL</td>\n",
       "      <td>CHA</td>\n",
       "      <td>20071123</td>\n",
       "      <td>Orlando Magic14</td>\n",
       "      <td>4.3</td>\n",
       "      <td>22.0</td>\n",
       "      <td>52.0</td>\n",
       "      <td>38.0</td>\n",
       "      <td>38.0</td>\n",
       "      <td>...</td>\n",
       "      <td>50.0</td>\n",
       "      <td>20.0</td>\n",
       "      <td>3.0</td>\n",
       "      <td>0.222</td>\n",
       "      <td>0.465587</td>\n",
       "      <td>0.144444</td>\n",
       "      <td>0.238095</td>\n",
       "      <td>1</td>\n",
       "      <td>20071123ORLCHA</td>\n",
       "      <td>197</td>\n",
       "    </tr>\n",
       "    <tr>\n",
       "      <th>255</th>\n",
       "      <td>255</td>\n",
       "      <td>NYK</td>\n",
       "      <td>SAC</td>\n",
       "      <td>20071116</td>\n",
       "      <td>Sacramento Kings9</td>\n",
       "      <td>7.4</td>\n",
       "      <td>33.0</td>\n",
       "      <td>83.0</td>\n",
       "      <td>40.0</td>\n",
       "      <td>34.0</td>\n",
       "      <td>...</td>\n",
       "      <td>46.0</td>\n",
       "      <td>46.0</td>\n",
       "      <td>6.0</td>\n",
       "      <td>0.535</td>\n",
       "      <td>0.578878</td>\n",
       "      <td>0.395349</td>\n",
       "      <td>0.437500</td>\n",
       "      <td>0</td>\n",
       "      <td>20071116NYKSAC</td>\n",
       "      <td>234</td>\n",
       "    </tr>\n",
       "    <tr>\n",
       "      <th>1935</th>\n",
       "      <td>1935</td>\n",
       "      <td>PHI</td>\n",
       "      <td>CHI</td>\n",
       "      <td>20080314</td>\n",
       "      <td>Chicago Bulls65</td>\n",
       "      <td>7.4</td>\n",
       "      <td>40.0</td>\n",
       "      <td>72.0</td>\n",
       "      <td>33.0</td>\n",
       "      <td>31.0</td>\n",
       "      <td>...</td>\n",
       "      <td>44.0</td>\n",
       "      <td>20.0</td>\n",
       "      <td>8.0</td>\n",
       "      <td>0.220</td>\n",
       "      <td>0.531062</td>\n",
       "      <td>0.197802</td>\n",
       "      <td>0.315789</td>\n",
       "      <td>0</td>\n",
       "      <td>20080314PHICHI</td>\n",
       "      <td>216</td>\n",
       "    </tr>\n",
       "  </tbody>\n",
       "</table>\n",
       "<p>5 rows × 100 columns</p>\n",
       "</div>"
      ],
      "text/plain": [
       "      Unnamed: 0 team opponent      date                 index  team_STL%  \\\n",
       "1459        1459  POR      DET  20080208     Detroit Pistons49        6.3   \n",
       "673          673  SAC      PHI  20071214  Philadelphia 76ers23        9.7   \n",
       "348          348  ORL      CHA  20071123       Orlando Magic14        4.3   \n",
       "255          255  NYK      SAC  20071116     Sacramento Kings9        7.4   \n",
       "1935        1935  PHI      CHI  20080314       Chicago Bulls65        7.4   \n",
       "\n",
       "      team_FT  team_2PA  team_FG  team_DRB   ...     opponent_TRB  \\\n",
       "1459     16.0      67.0     33.0      24.0   ...             37.0   \n",
       "673      18.0      68.0     43.0      26.0   ...             31.0   \n",
       "348      22.0      52.0     38.0      38.0   ...             50.0   \n",
       "255      33.0      83.0     40.0      34.0   ...             46.0   \n",
       "1935     40.0      72.0     33.0      31.0   ...             44.0   \n",
       "\n",
       "      opponent_FTA  opponent_BLK  opponent_FTr  opponent_TS%  opponent_FT/FGA  \\\n",
       "1459          15.0           7.0         0.205      0.571608         0.136986   \n",
       "673           24.0           4.0         0.324      0.585383         0.216216   \n",
       "348           20.0           3.0         0.222      0.465587         0.144444   \n",
       "255           46.0           6.0         0.535      0.578878         0.395349   \n",
       "1935          20.0           8.0         0.220      0.531062         0.197802   \n",
       "\n",
       "      opponent_3P%  home           Index  Outcome  \n",
       "1459      0.562500     0  20080208PORDET      173  \n",
       "673       0.437500     0  20071214SACPHI      208  \n",
       "348       0.238095     1  20071123ORLCHA      197  \n",
       "255       0.437500     0  20071116NYKSAC      234  \n",
       "1935      0.315789     0  20080314PHICHI      216  \n",
       "\n",
       "[5 rows x 100 columns]"
      ]
     },
     "execution_count": 118,
     "metadata": {},
     "output_type": "execute_result"
    }
   ],
   "source": [
    "season.sample(5)"
   ]
  },
  {
   "cell_type": "code",
   "execution_count": 128,
   "metadata": {},
   "outputs": [],
   "source": [
    "in_data = season.set_index(\"Index\")\n",
    "in_data = in_data.drop([\"index\", \"Unnamed: 0\"], axis = 1)\n",
    "in_data = in_data.sort_index()"
   ]
  },
  {
   "cell_type": "code",
   "execution_count": 129,
   "metadata": {},
   "outputs": [
    {
     "data": {
      "text/plain": [
       "(2632, 97)"
      ]
     },
     "execution_count": 129,
     "metadata": {},
     "output_type": "execute_result"
    }
   ],
   "source": [
    "in_data.shape"
   ]
  },
  {
   "cell_type": "code",
   "execution_count": 130,
   "metadata": {},
   "outputs": [
    {
     "data": {
      "text/html": [
       "<div>\n",
       "<style scoped>\n",
       "    .dataframe tbody tr th:only-of-type {\n",
       "        vertical-align: middle;\n",
       "    }\n",
       "\n",
       "    .dataframe tbody tr th {\n",
       "        vertical-align: top;\n",
       "    }\n",
       "\n",
       "    .dataframe thead th {\n",
       "        text-align: right;\n",
       "    }\n",
       "</style>\n",
       "<table border=\"1\" class=\"dataframe\">\n",
       "  <thead>\n",
       "    <tr style=\"text-align: right;\">\n",
       "      <th></th>\n",
       "      <th>team</th>\n",
       "      <th>opponent</th>\n",
       "      <th>date</th>\n",
       "      <th>team_STL%</th>\n",
       "      <th>team_FT</th>\n",
       "      <th>team_2PA</th>\n",
       "      <th>team_FG</th>\n",
       "      <th>team_DRB</th>\n",
       "      <th>team_ORB%</th>\n",
       "      <th>team_AST</th>\n",
       "      <th>...</th>\n",
       "      <th>opponent_STL</th>\n",
       "      <th>opponent_TRB</th>\n",
       "      <th>opponent_FTA</th>\n",
       "      <th>opponent_BLK</th>\n",
       "      <th>opponent_FTr</th>\n",
       "      <th>opponent_TS%</th>\n",
       "      <th>opponent_FT/FGA</th>\n",
       "      <th>opponent_3P%</th>\n",
       "      <th>home</th>\n",
       "      <th>Outcome</th>\n",
       "    </tr>\n",
       "    <tr>\n",
       "      <th>Index</th>\n",
       "      <th></th>\n",
       "      <th></th>\n",
       "      <th></th>\n",
       "      <th></th>\n",
       "      <th></th>\n",
       "      <th></th>\n",
       "      <th></th>\n",
       "      <th></th>\n",
       "      <th></th>\n",
       "      <th></th>\n",
       "      <th></th>\n",
       "      <th></th>\n",
       "      <th></th>\n",
       "      <th></th>\n",
       "      <th></th>\n",
       "      <th></th>\n",
       "      <th></th>\n",
       "      <th></th>\n",
       "      <th></th>\n",
       "      <th></th>\n",
       "      <th></th>\n",
       "    </tr>\n",
       "  </thead>\n",
       "  <tbody>\n",
       "    <tr>\n",
       "      <th>20071212PHOUTA</th>\n",
       "      <td>PHO</td>\n",
       "      <td>UTA</td>\n",
       "      <td>20071212</td>\n",
       "      <td>9.6</td>\n",
       "      <td>19.0</td>\n",
       "      <td>70.0</td>\n",
       "      <td>40.0</td>\n",
       "      <td>29.0</td>\n",
       "      <td>31.9</td>\n",
       "      <td>22.0</td>\n",
       "      <td>...</td>\n",
       "      <td>12.0</td>\n",
       "      <td>49.0</td>\n",
       "      <td>27.0</td>\n",
       "      <td>5.0</td>\n",
       "      <td>0.303</td>\n",
       "      <td>0.485726</td>\n",
       "      <td>0.191011</td>\n",
       "      <td>0.428571</td>\n",
       "      <td>1</td>\n",
       "      <td>201</td>\n",
       "    </tr>\n",
       "  </tbody>\n",
       "</table>\n",
       "<p>1 rows × 97 columns</p>\n",
       "</div>"
      ],
      "text/plain": [
       "               team opponent      date  team_STL%  team_FT  team_2PA  team_FG  \\\n",
       "Index                                                                           \n",
       "20071212PHOUTA  PHO      UTA  20071212        9.6     19.0      70.0     40.0   \n",
       "\n",
       "                team_DRB  team_ORB%  team_AST   ...     opponent_STL  \\\n",
       "Index                                           ...                    \n",
       "20071212PHOUTA      29.0       31.9      22.0   ...             12.0   \n",
       "\n",
       "                opponent_TRB  opponent_FTA  opponent_BLK  opponent_FTr  \\\n",
       "Index                                                                    \n",
       "20071212PHOUTA          49.0          27.0           5.0         0.303   \n",
       "\n",
       "                opponent_TS%  opponent_FT/FGA  opponent_3P%  home  Outcome  \n",
       "Index                                                                       \n",
       "20071212PHOUTA      0.485726         0.191011      0.428571     1      201  \n",
       "\n",
       "[1 rows x 97 columns]"
      ]
     },
     "execution_count": 130,
     "metadata": {},
     "output_type": "execute_result"
    }
   ],
   "source": [
    "in_data.sample(1)"
   ]
  },
  {
   "cell_type": "markdown",
   "metadata": {},
   "source": [
    "## Extracting the data"
   ]
  },
  {
   "cell_type": "code",
   "execution_count": 131,
   "metadata": {},
   "outputs": [],
   "source": [
    "### for every team: past 3 games stats (them and opponent) + opponent season averages"
   ]
  },
  {
   "cell_type": "markdown",
   "metadata": {},
   "source": [
    "#### Computing running season averages by team"
   ]
  },
  {
   "cell_type": "code",
   "execution_count": 137,
   "metadata": {},
   "outputs": [],
   "source": [
    "dates = pd.unique(in_data.date)\n",
    "\n",
    "season_averages = {}\n",
    "\n",
    "for date in dates:\n",
    "    # get all past games\n",
    "    past_games = in_data[in_data.date < date]\n",
    "    # means\n",
    "    season_averages[date] = past_games.groupby('team').mean()"
   ]
  },
  {
   "cell_type": "markdown",
   "metadata": {},
   "source": [
    "#### Computing the past n games for every matchup"
   ]
  },
  {
   "cell_type": "code",
   "execution_count": 140,
   "metadata": {},
   "outputs": [],
   "source": [
    "n = 3\n",
    "home_only = in_data[in_data.home == 1]"
   ]
  },
  {
   "cell_type": "code",
   "execution_count": 164,
   "metadata": {},
   "outputs": [],
   "source": [
    "## build a list of games for every team\n",
    "past_n = {}\n",
    "\n",
    "for date in dates:\n",
    "    team_map = {}\n",
    "    past_games = home_only[home_only.date < date]\n",
    "    for team in pd.unique(home_only.team):\n",
    "        #get the past games for team\n",
    "        past_team = past_games[(past_games.team == team) | (past_games.opponent == team)].tail(3)\n",
    "        team_map[team] = past_team\n",
    "    past_n[date] = team_map        "
   ]
  }
 ],
 "metadata": {
  "kernelspec": {
   "display_name": "Python 3",
   "language": "python",
   "name": "python3"
  },
  "language_info": {
   "codemirror_mode": {
    "name": "ipython",
    "version": 3
   },
   "file_extension": ".py",
   "mimetype": "text/x-python",
   "name": "python",
   "nbconvert_exporter": "python",
   "pygments_lexer": "ipython3",
   "version": "3.7.1"
  }
 },
 "nbformat": 4,
 "nbformat_minor": 2
}
