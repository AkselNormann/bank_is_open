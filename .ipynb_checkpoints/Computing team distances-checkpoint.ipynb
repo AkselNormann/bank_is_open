{
 "cells": [
  {
   "cell_type": "code",
   "execution_count": 1,
   "metadata": {},
   "outputs": [],
   "source": [
    "import pandas as pd\n",
    "import pickle"
   ]
  },
  {
   "cell_type": "code",
   "execution_count": 36,
   "metadata": {},
   "outputs": [],
   "source": [
    "city_distance = pd.read_csv(\"data/distances.csv\")\n",
    "city_team = pd.read_csv(\"data/CityTeamMap.csv\")"
   ]
  },
  {
   "cell_type": "code",
   "execution_count": 139,
   "metadata": {},
   "outputs": [],
   "source": [
    "city_abbrev = {}\n",
    "for i, row in city_team.iterrows():\n",
    "    city = \" \".join(row[\"City\"].split(\"+\")).strip(\" \")\n",
    "    team = row[\"Team\"].strip(\" \")\n",
    "    \n",
    "    city_abbrev[team] = city"
   ]
  },
  {
   "cell_type": "code",
   "execution_count": 140,
   "metadata": {},
   "outputs": [],
   "source": [
    "city_distance = city_distance.applymap(lambda x: \" \".join(x.split(\"+\")).strip(\" \") if type(x) == str else x)"
   ]
  },
  {
   "cell_type": "code",
   "execution_count": 141,
   "metadata": {},
   "outputs": [],
   "source": [
    "distance_map = {}\n",
    "for team1 in city_abbrev.keys():\n",
    "    for team2 in city_abbrev.keys():\n",
    "        if team1 == team2: \n",
    "            distance_map[(team1, team2)] = 0\n",
    "            continue\n",
    "        \n",
    "        city1 = city_abbrev[team1]\n",
    "        city2 = city_abbrev[team2]\n",
    "        \n",
    "        if city1 == city2:\n",
    "            distance_map[(team1, team2)] = 0\n",
    "            continue\n",
    "            \n",
    "        distances = city_distance[(city_distance.City1 == city1) & (city_distance.City2 == city2)]\n",
    "        if distances.shape[0] == 0:\n",
    "            distances = city_distance[(city_distance.City1 == city2) & (city_distance.City2 == city1)]\n",
    "        \n",
    "        distance_map[(team1, team2)] = float(distances.Distance)\n",
    "        distance_map[(team2, team1)] = float(distances.Distance)"
   ]
  },
  {
   "cell_type": "code",
   "execution_count": 142,
   "metadata": {},
   "outputs": [],
   "source": [
    "with open(\"data/distance_map.pkl\", \"wb\") as f:\n",
    "    pickle.dump(distance_map, f)"
   ]
  },
  {
   "cell_type": "code",
   "execution_count": 90,
   "metadata": {},
   "outputs": [],
   "source": [
    "from prepare_data import *"
   ]
  },
  {
   "cell_type": "code",
   "execution_count": 92,
   "metadata": {},
   "outputs": [],
   "source": [
    "season, odds = getData(2007)\n",
    "season, odds = cleanNames(season, odds)\n",
    "season, odds, in_data = makeIndices(season, odds)"
   ]
  },
  {
   "cell_type": "code",
   "execution_count": 93,
   "metadata": {},
   "outputs": [],
   "source": [
    "in_data[\"date\"] = in_data[\"date\"].apply(make_date)\n",
    "\n",
    "dates = pd.unique(in_data.date)\n",
    "\n",
    "n = 3\n",
    "home_only = in_data[in_data.home == 1]\n",
    "\n",
    "season_averages = compute_season_averages(in_data, dates)"
   ]
  },
  {
   "cell_type": "code",
   "execution_count": 94,
   "metadata": {},
   "outputs": [],
   "source": [
    "past_n = get_past_n(in_data, dates, n)\n",
    "\n",
    "encoded = one_hot_encode_teams()"
   ]
  },
  {
   "cell_type": "code",
   "execution_count": 143,
   "metadata": {},
   "outputs": [
    {
     "ename": "SyntaxError",
     "evalue": "'return' outside function (<ipython-input-143-594541d43a0d>, line 93)",
     "output_type": "error",
     "traceback": [
      "\u001b[0;36m  File \u001b[0;32m\"<ipython-input-143-594541d43a0d>\"\u001b[0;36m, line \u001b[0;32m93\u001b[0m\n\u001b[0;31m    return np.array(X), np.array(y)\u001b[0m\n\u001b[0m                                   ^\u001b[0m\n\u001b[0;31mSyntaxError\u001b[0m\u001b[0;31m:\u001b[0m 'return' outside function\n"
     ]
    }
   ],
   "source": [
    "X = []\n",
    "y = []\n",
    "\n",
    "for i, row in home_only.iterrows():\n",
    "\n",
    "    home_team = row[\"team\"]\n",
    "    away_team = row[\"opponent\"]\n",
    "\n",
    "    date = row[\"date\"]\n",
    "\n",
    "    past_n_home = past_n[date][home_team]\n",
    "    past_n_away = past_n[date][away_team]\n",
    "\n",
    "    avgs = season_averages[date]\n",
    "\n",
    "    if past_n_home.shape[0] < n or past_n_away.shape[0] < n: continue\n",
    "\n",
    "    ################ HOME TEAM PAST GAMES\n",
    "    data_home = []\n",
    "    i = 0\n",
    "    for j, row_2 in past_n_home.iterrows():\n",
    "        cur_data = []\n",
    "\n",
    "        team = row_2[\"team\"]\n",
    "        opponent = row_2[\"opponent\"]\n",
    "\n",
    "        cur_data.extend(encoded[team])\n",
    "        cur_data.extend(encoded[opponent])\n",
    "        cur_data.extend(row_2.drop([\"team\", \"opponent\", \"date\"]).values)\n",
    "\n",
    "        # distance to next game\n",
    "        if i != n - 1:\n",
    "            next_game = past_n_home.iloc[i + 1]\n",
    "        else:\n",
    "            next_game = row\n",
    "\n",
    "        city1 = team if row_2[\"home\"] == 1 else row_2[\"opponent\"]\n",
    "        city2 = team if next_game[\"home\"] == 1 else next_game[\"opponent\"]\n",
    "        dist_to_travel = distance_map[(city1, city2)]\n",
    "        cur_data.append(dist_to_travel)\n",
    "\n",
    "        opp_stats = avgs.loc[opponent].values\n",
    "\n",
    "        cur_data.extend(opp_stats)\n",
    "\n",
    "        data_home.append(cur_data)\n",
    "\n",
    "        i += 1\n",
    "\n",
    "    ################ AWAY TEAM PAST GAMES\n",
    "    data_away = []\n",
    "    i = 0\n",
    "    for j, row_2 in past_n_away.iterrows():\n",
    "        cur_data = []\n",
    "\n",
    "        team = row_2[\"team\"]\n",
    "        opponent = row_2[\"opponent\"]\n",
    "\n",
    "        cur_data.extend(encoded[team])\n",
    "        cur_data.extend(encoded[opponent])\n",
    "        cur_data.extend(row_2.drop([\"team\", \"opponent\", \"date\"]).values)\n",
    "\n",
    "        # distance to next game\n",
    "        next_game = \"\"\n",
    "        if i != n - 1:\n",
    "            next_game = past_n_home.iloc[i + 1]\n",
    "        else:\n",
    "            next_game = row\n",
    "\n",
    "        city1 = team if row_2[\"home\"] == 1 else row_2[\"opponent\"]\n",
    "        city2 = team if next_game[\"home\"] == 1 else next_game[\"opponent\"]\n",
    "        dist_to_travel = distance_map[(city1, city2)]\n",
    "        cur_data.append(dist_to_travel)\n",
    "\n",
    "        opp_stats = avgs.loc[opponent].values\n",
    "\n",
    "        cur_data.extend(opp_stats)\n",
    "\n",
    "        data_away.append(cur_data)\n",
    "\n",
    "        i += 1\n",
    "\n",
    "    ################ MERGE THE TWO\n",
    "    data = []\n",
    "    for i in range(len(data_home)):\n",
    "        cur_data = data_home[i]\n",
    "        cur_data.extend(data_away[i])\n",
    "        data.append(cur_data)\n",
    "\n",
    "    X.append(data)\n",
    "    y.append(row[\"Outcome\"])"
   ]
  },
  {
   "cell_type": "code",
   "execution_count": 131,
   "metadata": {},
   "outputs": [
    {
     "ename": "KeyError",
     "evalue": "('CLE', 'PHO')",
     "output_type": "error",
     "traceback": [
      "\u001b[0;31m---------------------------------------------------------------------------\u001b[0m",
      "\u001b[0;31mKeyError\u001b[0m                                  Traceback (most recent call last)",
      "\u001b[0;32m<ipython-input-131-3ae82b7efb39>\u001b[0m in \u001b[0;36m<module>\u001b[0;34m\u001b[0m\n\u001b[0;32m----> 1\u001b[0;31m \u001b[0mdistance_map\u001b[0m\u001b[0;34m[\u001b[0m\u001b[0;34m(\u001b[0m\u001b[0;34m'CLE'\u001b[0m\u001b[0;34m,\u001b[0m \u001b[0;34m'PHO'\u001b[0m\u001b[0;34m)\u001b[0m\u001b[0;34m]\u001b[0m\u001b[0;34m\u001b[0m\u001b[0;34m\u001b[0m\u001b[0m\n\u001b[0m",
      "\u001b[0;31mKeyError\u001b[0m: ('CLE', 'PHO')"
     ]
    }
   ],
   "source": [
    "distance_map[('CLE', 'PHO')]"
   ]
  },
  {
   "cell_type": "code",
   "execution_count": 118,
   "metadata": {},
   "outputs": [
    {
     "data": {
      "text/plain": [
       "'ATL'"
      ]
     },
     "execution_count": 118,
     "metadata": {},
     "output_type": "execute_result"
    }
   ],
   "source": [
    "0 if next_game[\"home\"] == 1 else next_game[\"opponent\"]"
   ]
  },
  {
   "cell_type": "code",
   "execution_count": 119,
   "metadata": {},
   "outputs": [
    {
     "data": {
      "text/plain": [
       "'ATL'"
      ]
     },
     "execution_count": 119,
     "metadata": {},
     "output_type": "execute_result"
    }
   ],
   "source": [
    "team if next_game[\"home\"] == 1 else next_game[\"opponent\"]"
   ]
  },
  {
   "cell_type": "code",
   "execution_count": null,
   "metadata": {},
   "outputs": [],
   "source": []
  }
 ],
 "metadata": {
  "kernelspec": {
   "display_name": "Python 3",
   "language": "python",
   "name": "python3"
  },
  "language_info": {
   "codemirror_mode": {
    "name": "ipython",
    "version": 3
   },
   "file_extension": ".py",
   "mimetype": "text/x-python",
   "name": "python",
   "nbconvert_exporter": "python",
   "pygments_lexer": "ipython3",
   "version": "3.7.1"
  }
 },
 "nbformat": 4,
 "nbformat_minor": 2
}
