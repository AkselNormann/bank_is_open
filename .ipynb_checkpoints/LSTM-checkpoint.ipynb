{
 "cells": [
  {
   "cell_type": "markdown",
   "metadata": {},
   "source": [
    "# Attempt at making an LSTM"
   ]
  },
  {
   "cell_type": "code",
   "execution_count": 1,
   "metadata": {},
   "outputs": [],
   "source": [
    "import numpy as np\n",
    "import pandas as pd\n",
    "import os"
   ]
  },
  {
   "cell_type": "code",
   "execution_count": 2,
   "metadata": {},
   "outputs": [],
   "source": [
    "# pytorch for lstm\n",
    "import torch\n",
    "import torch.nn as nn\n",
    "import torch.nn.functional as F\n",
    "import torch.optim as optim\n",
    "from torch.autograd import Variable"
   ]
  },
  {
   "cell_type": "markdown",
   "metadata": {},
   "source": [
    "## Loading the data"
   ]
  },
  {
   "cell_type": "markdown",
   "metadata": {},
   "source": [
    "#### Game Data"
   ]
  },
  {
   "cell_type": "code",
   "execution_count": 3,
   "metadata": {},
   "outputs": [],
   "source": [
    "game_data_path = \"data/final_game_data/\"\n",
    "files = os.listdir(game_data_path)\n",
    "season = pd.read_csv(game_data_path + files[0])"
   ]
  },
  {
   "cell_type": "markdown",
   "metadata": {},
   "source": [
    "#### Odds Data"
   ]
  },
  {
   "cell_type": "code",
   "execution_count": 4,
   "metadata": {},
   "outputs": [],
   "source": [
    "odds_data_path = \"data/odds_data_processed/\"\n",
    "odds_files = os.listdir(odds_data_path)"
   ]
  },
  {
   "cell_type": "code",
   "execution_count": 5,
   "metadata": {},
   "outputs": [],
   "source": [
    "odds = pd.read_csv(odds_data_path + odds_files[1])"
   ]
  },
  {
   "cell_type": "code",
   "execution_count": 6,
   "metadata": {},
   "outputs": [
    {
     "data": {
      "text/plain": [
       "(1288, 14)"
      ]
     },
     "execution_count": 6,
     "metadata": {},
     "output_type": "execute_result"
    }
   ],
   "source": [
    "odds.shape"
   ]
  },
  {
   "cell_type": "code",
   "execution_count": 7,
   "metadata": {},
   "outputs": [
    {
     "data": {
      "text/html": [
       "<div>\n",
       "<style scoped>\n",
       "    .dataframe tbody tr th:only-of-type {\n",
       "        vertical-align: middle;\n",
       "    }\n",
       "\n",
       "    .dataframe tbody tr th {\n",
       "        vertical-align: top;\n",
       "    }\n",
       "\n",
       "    .dataframe thead th {\n",
       "        text-align: right;\n",
       "    }\n",
       "</style>\n",
       "<table border=\"1\" class=\"dataframe\">\n",
       "  <thead>\n",
       "    <tr style=\"text-align: right;\">\n",
       "      <th></th>\n",
       "      <th>Unnamed: 0</th>\n",
       "      <th>Date</th>\n",
       "      <th>Home</th>\n",
       "      <th>Away</th>\n",
       "      <th>OU</th>\n",
       "      <th>Spread</th>\n",
       "      <th>OU_2H</th>\n",
       "      <th>Spread_2H</th>\n",
       "      <th>ML_home</th>\n",
       "      <th>ML_away</th>\n",
       "      <th>Points</th>\n",
       "      <th>Win Margin</th>\n",
       "      <th>2H Points</th>\n",
       "      <th>2H Win Margin</th>\n",
       "    </tr>\n",
       "  </thead>\n",
       "  <tbody>\n",
       "    <tr>\n",
       "      <th>151</th>\n",
       "      <td>151</td>\n",
       "      <td>2007-11-21</td>\n",
       "      <td>Miami</td>\n",
       "      <td>Atlanta</td>\n",
       "      <td>190.0</td>\n",
       "      <td>7.5</td>\n",
       "      <td>93.5</td>\n",
       "      <td>3.0</td>\n",
       "      <td>-430</td>\n",
       "      <td>360</td>\n",
       "      <td>161</td>\n",
       "      <td>-3</td>\n",
       "      <td>81</td>\n",
       "      <td>-9</td>\n",
       "    </tr>\n",
       "    <tr>\n",
       "      <th>1056</th>\n",
       "      <td>1056</td>\n",
       "      <td>2008-03-28</td>\n",
       "      <td>Seattle</td>\n",
       "      <td>Charlotte</td>\n",
       "      <td>208.0</td>\n",
       "      <td>4.0</td>\n",
       "      <td>102</td>\n",
       "      <td>1</td>\n",
       "      <td>120</td>\n",
       "      <td>-140</td>\n",
       "      <td>189</td>\n",
       "      <td>-3</td>\n",
       "      <td>81</td>\n",
       "      <td>-1</td>\n",
       "    </tr>\n",
       "    <tr>\n",
       "      <th>488</th>\n",
       "      <td>488</td>\n",
       "      <td>2008-01-08</td>\n",
       "      <td>Chicago</td>\n",
       "      <td>New York</td>\n",
       "      <td>190.0</td>\n",
       "      <td>6.5</td>\n",
       "      <td>96.5</td>\n",
       "      <td>5.0</td>\n",
       "      <td>-290</td>\n",
       "      <td>240</td>\n",
       "      <td>205</td>\n",
       "      <td>-5</td>\n",
       "      <td>100</td>\n",
       "      <td>-4</td>\n",
       "    </tr>\n",
       "    <tr>\n",
       "      <th>822</th>\n",
       "      <td>822</td>\n",
       "      <td>2008-02-27</td>\n",
       "      <td>Atlanta</td>\n",
       "      <td>Sacramento</td>\n",
       "      <td>203.0</td>\n",
       "      <td>3.5</td>\n",
       "      <td>103</td>\n",
       "      <td>3</td>\n",
       "      <td>-240</td>\n",
       "      <td>200</td>\n",
       "      <td>240</td>\n",
       "      <td>6</td>\n",
       "      <td>123</td>\n",
       "      <td>5</td>\n",
       "    </tr>\n",
       "    <tr>\n",
       "      <th>118</th>\n",
       "      <td>118</td>\n",
       "      <td>2007-11-16</td>\n",
       "      <td>Atlanta</td>\n",
       "      <td>Seattle</td>\n",
       "      <td>206.0</td>\n",
       "      <td>7.5</td>\n",
       "      <td>100.5</td>\n",
       "      <td>5.5</td>\n",
       "      <td>-275</td>\n",
       "      <td>235</td>\n",
       "      <td>249</td>\n",
       "      <td>-3</td>\n",
       "      <td>111</td>\n",
       "      <td>13</td>\n",
       "    </tr>\n",
       "  </tbody>\n",
       "</table>\n",
       "</div>"
      ],
      "text/plain": [
       "      Unnamed: 0        Date     Home        Away     OU  Spread  OU_2H  \\\n",
       "151          151  2007-11-21    Miami     Atlanta  190.0     7.5   93.5   \n",
       "1056        1056  2008-03-28  Seattle   Charlotte  208.0     4.0    102   \n",
       "488          488  2008-01-08  Chicago    New York  190.0     6.5   96.5   \n",
       "822          822  2008-02-27  Atlanta  Sacramento  203.0     3.5    103   \n",
       "118          118  2007-11-16  Atlanta     Seattle  206.0     7.5  100.5   \n",
       "\n",
       "     Spread_2H ML_home ML_away  Points  Win Margin  2H Points  2H Win Margin  \n",
       "151        3.0    -430     360     161          -3         81             -9  \n",
       "1056         1     120    -140     189          -3         81             -1  \n",
       "488        5.0    -290     240     205          -5        100             -4  \n",
       "822          3    -240     200     240           6        123              5  \n",
       "118        5.5    -275     235     249          -3        111             13  "
      ]
     },
     "execution_count": 7,
     "metadata": {},
     "output_type": "execute_result"
    }
   ],
   "source": [
    "odds.sample(5)"
   ]
  },
  {
   "cell_type": "markdown",
   "metadata": {},
   "source": [
    "#### Reconciling names"
   ]
  },
  {
   "cell_type": "code",
   "execution_count": 8,
   "metadata": {},
   "outputs": [],
   "source": [
    "season_names = {'Golden State Warriors':'GSW',\n",
    "                'Los Angeles Lakers': 'LAL',\n",
    "                'San Antonio Spurs': 'SAS',\n",
    "                'Cleveland Cavaliers': 'CLE',\n",
    "                'Denver Nuggets': 'DEN',\n",
    "                'Indiana Pacers': 'IND',\n",
    "                'Memphis Grizzlies': 'MEM',\n",
    "                'New Jersey Nets': 'BRK',\n",
    "                'Brooklyn Nets': 'BRK',\n",
    "                'New Orleans Hornets': 'NOP',\n",
    "                'New Orleans Pelicans': 'NOP',\n",
    "                'Orlando Magic': 'ORL',\n",
    "                'Toronto Raptors': 'TOR',\n",
    "                'Miami Heat': 'MIA',\n",
    "                'Seattle SuperSonics': 'SEA',\n",
    "                'Utah Jazz': 'UTA',\n",
    "                'Atlanta Hawks': 'ATL',\n",
    "                'Boston Celtics': 'BOS',\n",
    "                'Charlotte Bobcats': 'CHA',\n",
    "                'Charlotte Hornets': 'CHA',\n",
    "                'Chicago Bulls': 'CHI',\n",
    "                'Los Angeles Clippers': 'LAC',\n",
    "                'Minnesota Timberwolves': 'MIN',\n",
    "                'Phoenix Suns': 'PHO',\n",
    "                'Dallas Mavericks': 'DAL',\n",
    "                'Houston Rockets': 'HOU',\n",
    "                'Milwaukee Bucks': 'MIL',\n",
    "                'Philadelphia 76ers': 'PHI',\n",
    "                'Washington Wizards': 'WAS',\n",
    "                'Detroit Pistons': 'DET',\n",
    "                'New York Knicks': 'NYK',\n",
    "                'Sacramento Kings': 'SAC',\n",
    "                'Portland Trail Blazers': 'POR',\n",
    "                'Oklahoma City Thunder': 'OKC'\n",
    "        }"
   ]
  },
  {
   "cell_type": "code",
   "execution_count": 9,
   "metadata": {},
   "outputs": [
    {
     "name": "stdout",
     "output_type": "stream",
     "text": [
      "LA Lakers\n",
      "LA Clippers\n"
     ]
    }
   ],
   "source": [
    "odds_names = {}\n",
    "for name in list(pd.unique(odds.Home)):\n",
    "    found = False\n",
    "    for s_name in season_names:\n",
    "        if name in s_name:\n",
    "            found = True\n",
    "            odds_names[name] = season_names[s_name]\n",
    "    if not found: print(name)"
   ]
  },
  {
   "cell_type": "code",
   "execution_count": 10,
   "metadata": {},
   "outputs": [],
   "source": [
    "odds_names[\"LA Lakers\"] = \"LAL\"\n",
    "odds_names[\"LA Clippers\"] = \"LAC\"\n",
    "odds_names[\"Okla City\"] = \"OKC\""
   ]
  },
  {
   "cell_type": "code",
   "execution_count": 11,
   "metadata": {},
   "outputs": [],
   "source": [
    "odds[\"Home\"] = odds[\"Home\"].apply(lambda x: odds_names[x])"
   ]
  },
  {
   "cell_type": "code",
   "execution_count": 12,
   "metadata": {},
   "outputs": [],
   "source": [
    "odds[\"Away\"] = odds[\"Away\"].apply(lambda x: odds_names[x])"
   ]
  },
  {
   "cell_type": "code",
   "execution_count": 13,
   "metadata": {},
   "outputs": [],
   "source": [
    "season[\"team\"] = season[\"team\"].apply(lambda x: season_names[x])\n",
    "season[\"opponent\"] = season[\"opponent\"].apply(lambda x: season_names[x])"
   ]
  },
  {
   "cell_type": "markdown",
   "metadata": {},
   "source": [
    "### Merging the two tables"
   ]
  },
  {
   "cell_type": "code",
   "execution_count": 14,
   "metadata": {},
   "outputs": [],
   "source": [
    "def make_index(row, col1, col2, col3):\n",
    "    return str(row[col1]) + str(row[col2]) + str(row[col3])"
   ]
  },
  {
   "cell_type": "code",
   "execution_count": 15,
   "metadata": {},
   "outputs": [],
   "source": [
    "season[\"date\"] = season[\"date\"].apply(lambda x: str(x)[:-1])"
   ]
  },
  {
   "cell_type": "code",
   "execution_count": 16,
   "metadata": {},
   "outputs": [],
   "source": [
    "season[\"Index\"] = season.apply(lambda x: make_index(x, \"date\", \"team\", \"opponent\"), axis=1)"
   ]
  },
  {
   "cell_type": "code",
   "execution_count": 17,
   "metadata": {},
   "outputs": [],
   "source": [
    "odds[\"Date\"] = odds[\"Date\"].apply(lambda x: \"\".join(x.split(\"-\")))"
   ]
  },
  {
   "cell_type": "code",
   "execution_count": 18,
   "metadata": {},
   "outputs": [],
   "source": [
    "odds[\"Index\"] = odds.apply(lambda x: make_index(x, \"Date\", \"Home\", \"Away\"), axis=1)"
   ]
  },
  {
   "cell_type": "code",
   "execution_count": 19,
   "metadata": {},
   "outputs": [],
   "source": [
    "merged = pd.merge(odds, season, on='Index')"
   ]
  },
  {
   "cell_type": "code",
   "execution_count": 20,
   "metadata": {},
   "outputs": [],
   "source": [
    "merged = merged.drop([\"Unnamed: 0_x\", \"Unnamed: 0_y\", \"date\", \"Home\", \"Away\", \"index\"], axis = 1)"
   ]
  },
  {
   "cell_type": "code",
   "execution_count": 21,
   "metadata": {},
   "outputs": [
    {
     "data": {
      "text/html": [
       "<div>\n",
       "<style scoped>\n",
       "    .dataframe tbody tr th:only-of-type {\n",
       "        vertical-align: middle;\n",
       "    }\n",
       "\n",
       "    .dataframe tbody tr th {\n",
       "        vertical-align: top;\n",
       "    }\n",
       "\n",
       "    .dataframe thead th {\n",
       "        text-align: right;\n",
       "    }\n",
       "</style>\n",
       "<table border=\"1\" class=\"dataframe\">\n",
       "  <thead>\n",
       "    <tr style=\"text-align: right;\">\n",
       "      <th></th>\n",
       "      <th>Date</th>\n",
       "      <th>OU</th>\n",
       "      <th>Spread</th>\n",
       "      <th>OU_2H</th>\n",
       "      <th>Spread_2H</th>\n",
       "      <th>ML_home</th>\n",
       "      <th>ML_away</th>\n",
       "      <th>Points</th>\n",
       "      <th>Win Margin</th>\n",
       "      <th>2H Points</th>\n",
       "      <th>...</th>\n",
       "      <th>opponent_HOB</th>\n",
       "      <th>opponent_STL</th>\n",
       "      <th>opponent_TRB</th>\n",
       "      <th>opponent_FTA</th>\n",
       "      <th>opponent_BLK</th>\n",
       "      <th>opponent_FTr</th>\n",
       "      <th>opponent_TS%</th>\n",
       "      <th>opponent_FT/FGA</th>\n",
       "      <th>opponent_3P%</th>\n",
       "      <th>home</th>\n",
       "    </tr>\n",
       "  </thead>\n",
       "  <tbody>\n",
       "    <tr>\n",
       "      <th>275</th>\n",
       "      <td>20071208</td>\n",
       "      <td>187.5</td>\n",
       "      <td>5.0</td>\n",
       "      <td>93.0</td>\n",
       "      <td>5.5</td>\n",
       "      <td>-200</td>\n",
       "      <td>170</td>\n",
       "      <td>182</td>\n",
       "      <td>-28</td>\n",
       "      <td>96</td>\n",
       "      <td>...</td>\n",
       "      <td>1.604651</td>\n",
       "      <td>14.0</td>\n",
       "      <td>47.0</td>\n",
       "      <td>22.0</td>\n",
       "      <td>5.0</td>\n",
       "      <td>0.272</td>\n",
       "      <td>0.578959</td>\n",
       "      <td>0.148148</td>\n",
       "      <td>0.538462</td>\n",
       "      <td>1</td>\n",
       "    </tr>\n",
       "  </tbody>\n",
       "</table>\n",
       "<p>1 rows × 107 columns</p>\n",
       "</div>"
      ],
      "text/plain": [
       "         Date     OU  Spread OU_2H Spread_2H ML_home ML_away  Points  \\\n",
       "275  20071208  187.5     5.0  93.0       5.5    -200     170     182   \n",
       "\n",
       "     Win Margin  2H Points  ...   opponent_HOB opponent_STL opponent_TRB  \\\n",
       "275         -28         96  ...       1.604651         14.0         47.0   \n",
       "\n",
       "    opponent_FTA  opponent_BLK  opponent_FTr  opponent_TS%  opponent_FT/FGA  \\\n",
       "275         22.0           5.0         0.272      0.578959         0.148148   \n",
       "\n",
       "     opponent_3P%  home  \n",
       "275      0.538462     1  \n",
       "\n",
       "[1 rows x 107 columns]"
      ]
     },
     "execution_count": 21,
     "metadata": {},
     "output_type": "execute_result"
    }
   ],
   "source": [
    "merged.sample(1)"
   ]
  },
  {
   "cell_type": "code",
   "execution_count": 22,
   "metadata": {},
   "outputs": [],
   "source": [
    "odds_cols = [\"OU\", \"Spread\", \"OU_2H\", \"Spread_2H\", \"ML_home\", \"ML_away\"]\n",
    "labels = [\"Points\", \"Win Margin\", \"2H Points\", \"2H Win Margin\"]\n",
    "label_index = [0, 1, 2, 3]\n",
    "non_numeric = ['Date','Home', 'Away']"
   ]
  },
  {
   "cell_type": "markdown",
   "metadata": {},
   "source": [
    "## Format Data from LSTM (using season-data)"
   ]
  },
  {
   "cell_type": "code",
   "execution_count": 23,
   "metadata": {},
   "outputs": [],
   "source": [
    "# drop non numeric features"
   ]
  },
  {
   "cell_type": "code",
   "execution_count": 24,
   "metadata": {},
   "outputs": [],
   "source": [
    "labels = [\"Points\", \"Win Margin\", \"2H Points\", \"2H Win Margin\"]\n",
    "label_index = [0, 1, 2, 3]\n",
    "non_numeric = ['index']"
   ]
  },
  {
   "cell_type": "code",
   "execution_count": 25,
   "metadata": {},
   "outputs": [],
   "source": [
    "data = season.set_index(\"Index\")\n",
    "data = data.drop(non_numeric, axis = 1)"
   ]
  },
  {
   "cell_type": "code",
   "execution_count": 26,
   "metadata": {},
   "outputs": [
    {
     "data": {
      "text/plain": [
       "(2632, 97)"
      ]
     },
     "execution_count": 26,
     "metadata": {},
     "output_type": "execute_result"
    }
   ],
   "source": [
    "data.shape"
   ]
  },
  {
   "cell_type": "code",
   "execution_count": 27,
   "metadata": {},
   "outputs": [],
   "source": [
    "for team_name in list(season_names.values()):\n",
    "    m = data[data.index.str.contains(team_name)]\n",
    "    if m.shape[0] > 0: break"
   ]
  },
  {
   "cell_type": "code",
   "execution_count": 28,
   "metadata": {},
   "outputs": [],
   "source": [
    "m = m.sort_index()\n",
    "label_col = 0\n",
    "start_data_cols = 4\n",
    "rows = m.shape[0]\n",
    "N_PREV = 3"
   ]
  },
  {
   "cell_type": "code",
   "execution_count": 29,
   "metadata": {},
   "outputs": [],
   "source": [
    "X = []\n",
    "y = []\n",
    "\n",
    "current_data = []\n",
    "\n",
    "for r in range(rows):\n",
    "    if len(current_data) == N_PREV:\n",
    "        X.append(current_data)\n",
    "        y.append(m.iloc[r].values[label_col])\n",
    "        \n",
    "    row = m.iloc[r].values[start_data_cols:]\n",
    "    current_data.append(row)\n",
    "    if len(current_data) > N_PREV:\n",
    "        current_data.pop(0)\n",
    "\n",
    "X = np.array(X, dtype=float)\n",
    "y = np.array(y, dtype=float)"
   ]
  },
  {
   "cell_type": "code",
   "execution_count": 30,
   "metadata": {},
   "outputs": [
    {
     "data": {
      "text/plain": [
       "(161, 3, 93)"
      ]
     },
     "execution_count": 30,
     "metadata": {},
     "output_type": "execute_result"
    }
   ],
   "source": [
    "X.shape"
   ]
  },
  {
   "cell_type": "code",
   "execution_count": 31,
   "metadata": {},
   "outputs": [
    {
     "data": {
      "text/plain": [
       "(161,)"
      ]
     },
     "execution_count": 31,
     "metadata": {},
     "output_type": "execute_result"
    }
   ],
   "source": [
    "y.shape"
   ]
  },
  {
   "cell_type": "code",
   "execution_count": 32,
   "metadata": {},
   "outputs": [
    {
     "data": {
      "text/plain": [
       "(164, 97)"
      ]
     },
     "execution_count": 32,
     "metadata": {},
     "output_type": "execute_result"
    }
   ],
   "source": [
    "m.shape"
   ]
  },
  {
   "cell_type": "markdown",
   "metadata": {},
   "source": [
    "## LSTM"
   ]
  }
 ],
 "metadata": {
  "kernelspec": {
   "display_name": "Python 3",
   "language": "python",
   "name": "python3"
  },
  "language_info": {
   "codemirror_mode": {
    "name": "ipython",
    "version": 3
   },
   "file_extension": ".py",
   "mimetype": "text/x-python",
   "name": "python",
   "nbconvert_exporter": "python",
   "pygments_lexer": "ipython3",
   "version": "3.7.1"
  }
 },
 "nbformat": 4,
 "nbformat_minor": 2
}
