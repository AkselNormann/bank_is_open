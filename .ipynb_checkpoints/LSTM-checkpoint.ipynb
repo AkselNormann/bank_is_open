{
 "cells": [
  {
   "cell_type": "markdown",
   "metadata": {},
   "source": [
    "# Collaborative Filtering with Neural Nets"
   ]
  },
  {
   "cell_type": "code",
   "execution_count": 1,
   "metadata": {},
   "outputs": [],
   "source": [
    "# for data manipulation\n",
    "import numpy as np\n",
    "import pandas as pd\n",
    "import os\n",
    "\n",
    "# use surprise for collaborative filtering\n",
    "import torch\n",
    "import torch.nn as nn\n",
    "import torch.nn.functional as F\n",
    "import torch.optim as optim\n",
    "from torch.autograd import Variable\n",
    "\n",
    "\n",
    "# plot\n",
    "import matplotlib.pyplot as plt"
   ]
  },
  {
   "cell_type": "markdown",
   "metadata": {},
   "source": [
    "## Read in data"
   ]
  },
  {
   "cell_type": "markdown",
   "metadata": {},
   "source": [
    "#### Game data"
   ]
  },
  {
   "cell_type": "code",
   "execution_count": 2,
   "metadata": {},
   "outputs": [],
   "source": [
    "game_data_path = \"data/final_game_data/\"\n",
    "files = os.listdir(game_data_path)\n",
    "season = pd.read_csv(game_data_path + files[0])"
   ]
  },
  {
   "cell_type": "code",
   "execution_count": 3,
   "metadata": {},
   "outputs": [
    {
     "data": {
      "text/plain": [
       "(2632, 98)"
      ]
     },
     "execution_count": 3,
     "metadata": {},
     "output_type": "execute_result"
    }
   ],
   "source": [
    "season.shape"
   ]
  },
  {
   "cell_type": "code",
   "execution_count": 4,
   "metadata": {},
   "outputs": [
    {
     "data": {
      "text/plain": [
       "'data/final_game_data/2007-2008_games_final.csv'"
      ]
     },
     "execution_count": 4,
     "metadata": {},
     "output_type": "execute_result"
    }
   ],
   "source": [
    "game_data_path + files[0]"
   ]
  },
  {
   "cell_type": "markdown",
   "metadata": {},
   "source": [
    "#### Odds data"
   ]
  },
  {
   "cell_type": "code",
   "execution_count": 5,
   "metadata": {},
   "outputs": [],
   "source": [
    "odds_data_path = \"data/odds_data_processed/\"\n",
    "odds_files = os.listdir(odds_data_path)"
   ]
  },
  {
   "cell_type": "code",
   "execution_count": 6,
   "metadata": {},
   "outputs": [],
   "source": [
    "odds = pd.read_csv(odds_data_path + odds_files[1])"
   ]
  },
  {
   "cell_type": "code",
   "execution_count": 7,
   "metadata": {},
   "outputs": [
    {
     "data": {
      "text/plain": [
       "(1288, 13)"
      ]
     },
     "execution_count": 7,
     "metadata": {},
     "output_type": "execute_result"
    }
   ],
   "source": [
    "odds = odds.drop(['Unnamed: 0'], axis = 1)\n",
    "odds.shape"
   ]
  },
  {
   "cell_type": "code",
   "execution_count": 8,
   "metadata": {},
   "outputs": [
    {
     "data": {
      "text/plain": [
       "Index(['Date', 'Home', 'Away', 'OU', 'Spread', 'OU_2H', 'Spread_2H', 'ML_home',\n",
       "       'ML_away', 'Points', 'Win Margin', '2H Points', '2H Win Margin'],\n",
       "      dtype='object')"
      ]
     },
     "execution_count": 8,
     "metadata": {},
     "output_type": "execute_result"
    }
   ],
   "source": [
    "odds.columns"
   ]
  },
  {
   "cell_type": "code",
   "execution_count": 9,
   "metadata": {},
   "outputs": [
    {
     "data": {
      "text/plain": [
       "'data/odds_data_processed/2007-2008.csv'"
      ]
     },
     "execution_count": 9,
     "metadata": {},
     "output_type": "execute_result"
    }
   ],
   "source": [
    "odds_data_path + odds_files[1]"
   ]
  },
  {
   "cell_type": "markdown",
   "metadata": {},
   "source": [
    "#### Reconciling names"
   ]
  },
  {
   "cell_type": "code",
   "execution_count": 10,
   "metadata": {},
   "outputs": [
    {
     "name": "stdout",
     "output_type": "stream",
     "text": [
      "LA Lakers\n",
      "LA Clippers\n"
     ]
    }
   ],
   "source": [
    "season_names = {'Golden State Warriors':'GSW',\n",
    "                'Los Angeles Lakers': 'LAL',\n",
    "                'San Antonio Spurs': 'SAS',\n",
    "                'Cleveland Cavaliers': 'CLE',\n",
    "                'Denver Nuggets': 'DEN',\n",
    "                'Indiana Pacers': 'IND',\n",
    "                'Memphis Grizzlies': 'MEM',\n",
    "                'New Jersey Nets': 'BRK',\n",
    "                'Brooklyn Nets': 'BRK',\n",
    "                'New Orleans Hornets': 'NOP',\n",
    "                'New Orleans Pelicans': 'NOP',\n",
    "                'Orlando Magic': 'ORL',\n",
    "                'Toronto Raptors': 'TOR',\n",
    "                'Miami Heat': 'MIA',\n",
    "                'Seattle SuperSonics': 'SEA',\n",
    "                'Utah Jazz': 'UTA',\n",
    "                'Atlanta Hawks': 'ATL',\n",
    "                'Boston Celtics': 'BOS',\n",
    "                'Charlotte Bobcats': 'CHA',\n",
    "                'Charlotte Hornets': 'CHA',\n",
    "                'Chicago Bulls': 'CHI',\n",
    "                'Los Angeles Clippers': 'LAC',\n",
    "                'Minnesota Timberwolves': 'MIN',\n",
    "                'Phoenix Suns': 'PHO',\n",
    "                'Dallas Mavericks': 'DAL',\n",
    "                'Houston Rockets': 'HOU',\n",
    "                'Milwaukee Bucks': 'MIL',\n",
    "                'Philadelphia 76ers': 'PHI',\n",
    "                'Washington Wizards': 'WAS',\n",
    "                'Detroit Pistons': 'DET',\n",
    "                'New York Knicks': 'NYK',\n",
    "                'Sacramento Kings': 'SAC',\n",
    "                'Portland Trail Blazers': 'POR',\n",
    "                'Oklahoma City Thunder': 'OKC'\n",
    "        }\n",
    "odds_names = {}\n",
    "for name in list(pd.unique(odds.Home)):\n",
    "    found = False\n",
    "    for s_name in season_names:\n",
    "        if name in s_name:\n",
    "            found = True\n",
    "            odds_names[name] = season_names[s_name]\n",
    "    if not found: print(name)\n",
    "odds_names[\"LA Lakers\"] = \"LAL\"\n",
    "odds_names[\"LA Clippers\"] = \"LAC\"\n",
    "odds_names[\"Okla City\"] = \"OKC\""
   ]
  },
  {
   "cell_type": "code",
   "execution_count": 11,
   "metadata": {},
   "outputs": [],
   "source": [
    "odds[\"Home\"] = odds[\"Home\"].apply(lambda x: odds_names[x])\n",
    "odds[\"Away\"] = odds[\"Away\"].apply(lambda x: odds_names[x])\n",
    "\n",
    "season[\"team\"] = season[\"team\"].apply(lambda x: season_names[x])\n",
    "season[\"opponent\"] = season[\"opponent\"].apply(lambda x: season_names[x])"
   ]
  },
  {
   "cell_type": "markdown",
   "metadata": {},
   "source": [
    "#### Merging the two data tables"
   ]
  },
  {
   "cell_type": "code",
   "execution_count": 12,
   "metadata": {},
   "outputs": [],
   "source": [
    "def make_index(row, col1, col2, col3):\n",
    "    return str(row[col1]) + str(row[col2]) + str(row[col3])\n",
    "\n",
    "def find_category(row):\n",
    "    ref = row[\"Index\"]\n",
    "    if row[\"home\"] == 0:\n",
    "        ref = ref[:-6] + ref[-3:] + ref[-6:-3]\n",
    "    odds_row = odds.loc[odds[\"Index\"] == ref]\n",
    "    #print(list(odds_row[\"Points\"]))\n",
    "    try:\n",
    "        return list(odds_row[\"Points\"])[0]\n",
    "    except:\n",
    "        return 0\n",
    "\n",
    "season[\"date\"] = season[\"date\"].apply(lambda x: str(x)[:-1])\n",
    "\n",
    "season[\"Index\"] = season.apply(lambda x: make_index(x, \"date\", \"team\", \"opponent\"), axis=1)\n",
    "\n",
    "odds[\"Date\"] = odds[\"Date\"].apply(lambda x: \"\".join(x.split(\"-\")))\n",
    "\n",
    "odds[\"Index\"] = odds.apply(lambda x: make_index(x, \"Date\", \"Home\", \"Away\"), axis=1)"
   ]
  },
  {
   "cell_type": "code",
   "execution_count": 13,
   "metadata": {},
   "outputs": [],
   "source": [
    "season[\"Outcome\"] = season.apply(lambda x: find_category(x), axis = 1) ##### CHANGE THIS TO DEAL WITH OTHER INDICES\n",
    "\n",
    "#merged = merged.drop([\"Unnamed: 0_x\", \"Unnamed: 0_y\", \"date\", \"Home\", \"Away\", \"index\"], axis = 1)"
   ]
  },
  {
   "cell_type": "code",
   "execution_count": 14,
   "metadata": {},
   "outputs": [
    {
     "data": {
      "text/html": [
       "<div>\n",
       "<style scoped>\n",
       "    .dataframe tbody tr th:only-of-type {\n",
       "        vertical-align: middle;\n",
       "    }\n",
       "\n",
       "    .dataframe tbody tr th {\n",
       "        vertical-align: top;\n",
       "    }\n",
       "\n",
       "    .dataframe thead th {\n",
       "        text-align: right;\n",
       "    }\n",
       "</style>\n",
       "<table border=\"1\" class=\"dataframe\">\n",
       "  <thead>\n",
       "    <tr style=\"text-align: right;\">\n",
       "      <th></th>\n",
       "      <th>Unnamed: 0</th>\n",
       "      <th>team</th>\n",
       "      <th>opponent</th>\n",
       "      <th>date</th>\n",
       "      <th>index</th>\n",
       "      <th>team_STL%</th>\n",
       "      <th>team_FT</th>\n",
       "      <th>team_2PA</th>\n",
       "      <th>team_FG</th>\n",
       "      <th>team_DRB</th>\n",
       "      <th>...</th>\n",
       "      <th>opponent_TRB</th>\n",
       "      <th>opponent_FTA</th>\n",
       "      <th>opponent_BLK</th>\n",
       "      <th>opponent_FTr</th>\n",
       "      <th>opponent_TS%</th>\n",
       "      <th>opponent_FT/FGA</th>\n",
       "      <th>opponent_3P%</th>\n",
       "      <th>home</th>\n",
       "      <th>Index</th>\n",
       "      <th>Outcome</th>\n",
       "    </tr>\n",
       "  </thead>\n",
       "  <tbody>\n",
       "    <tr>\n",
       "      <th>2052</th>\n",
       "      <td>2052</td>\n",
       "      <td>POR</td>\n",
       "      <td>LAC</td>\n",
       "      <td>20080321</td>\n",
       "      <td>Portland Trail Blazers69</td>\n",
       "      <td>5.9</td>\n",
       "      <td>14.0</td>\n",
       "      <td>58.0</td>\n",
       "      <td>42.0</td>\n",
       "      <td>24.0</td>\n",
       "      <td>...</td>\n",
       "      <td>28.0</td>\n",
       "      <td>16.0</td>\n",
       "      <td>2.0</td>\n",
       "      <td>0.219</td>\n",
       "      <td>0.637181</td>\n",
       "      <td>0.164384</td>\n",
       "      <td>0.615385</td>\n",
       "      <td>1</td>\n",
       "      <td>20080321PORLAC</td>\n",
       "      <td>209</td>\n",
       "    </tr>\n",
       "    <tr>\n",
       "      <th>239</th>\n",
       "      <td>239</td>\n",
       "      <td>MIA</td>\n",
       "      <td>BOS</td>\n",
       "      <td>20071116</td>\n",
       "      <td>Boston Celtics8</td>\n",
       "      <td>8.8</td>\n",
       "      <td>16.0</td>\n",
       "      <td>56.0</td>\n",
       "      <td>35.0</td>\n",
       "      <td>29.0</td>\n",
       "      <td>...</td>\n",
       "      <td>40.0</td>\n",
       "      <td>18.0</td>\n",
       "      <td>2.0</td>\n",
       "      <td>0.254</td>\n",
       "      <td>0.582869</td>\n",
       "      <td>0.239437</td>\n",
       "      <td>0.357143</td>\n",
       "      <td>0</td>\n",
       "      <td>20071116MIABOS</td>\n",
       "      <td>183</td>\n",
       "    </tr>\n",
       "    <tr>\n",
       "      <th>575</th>\n",
       "      <td>575</td>\n",
       "      <td>CLE</td>\n",
       "      <td>CHA</td>\n",
       "      <td>20071208</td>\n",
       "      <td>Charlotte Bobcats18</td>\n",
       "      <td>8.7</td>\n",
       "      <td>23.0</td>\n",
       "      <td>55.0</td>\n",
       "      <td>32.0</td>\n",
       "      <td>25.0</td>\n",
       "      <td>...</td>\n",
       "      <td>34.0</td>\n",
       "      <td>48.0</td>\n",
       "      <td>8.0</td>\n",
       "      <td>0.750</td>\n",
       "      <td>0.563910</td>\n",
       "      <td>0.562500</td>\n",
       "      <td>0.444444</td>\n",
       "      <td>0</td>\n",
       "      <td>20071208CLECHA</td>\n",
       "      <td>189</td>\n",
       "    </tr>\n",
       "    <tr>\n",
       "      <th>1440</th>\n",
       "      <td>1440</td>\n",
       "      <td>SAC</td>\n",
       "      <td>SEA</td>\n",
       "      <td>20080206</td>\n",
       "      <td>Sacramento Kings47</td>\n",
       "      <td>10.1</td>\n",
       "      <td>13.0</td>\n",
       "      <td>76.0</td>\n",
       "      <td>36.0</td>\n",
       "      <td>28.0</td>\n",
       "      <td>...</td>\n",
       "      <td>54.0</td>\n",
       "      <td>26.0</td>\n",
       "      <td>7.0</td>\n",
       "      <td>0.342</td>\n",
       "      <td>0.600412</td>\n",
       "      <td>0.263158</td>\n",
       "      <td>0.500000</td>\n",
       "      <td>1</td>\n",
       "      <td>20080206SACSEA</td>\n",
       "      <td>197</td>\n",
       "    </tr>\n",
       "    <tr>\n",
       "      <th>1677</th>\n",
       "      <td>1677</td>\n",
       "      <td>POR</td>\n",
       "      <td>LAL</td>\n",
       "      <td>20080226</td>\n",
       "      <td>Los Angeles Lakers57</td>\n",
       "      <td>6.8</td>\n",
       "      <td>21.0</td>\n",
       "      <td>63.0</td>\n",
       "      <td>30.0</td>\n",
       "      <td>30.0</td>\n",
       "      <td>...</td>\n",
       "      <td>41.0</td>\n",
       "      <td>17.0</td>\n",
       "      <td>6.0</td>\n",
       "      <td>0.224</td>\n",
       "      <td>0.574988</td>\n",
       "      <td>0.197368</td>\n",
       "      <td>0.473684</td>\n",
       "      <td>0</td>\n",
       "      <td>20080226PORLAL</td>\n",
       "      <td>179</td>\n",
       "    </tr>\n",
       "  </tbody>\n",
       "</table>\n",
       "<p>5 rows × 100 columns</p>\n",
       "</div>"
      ],
      "text/plain": [
       "      Unnamed: 0 team opponent      date                     index  team_STL%  \\\n",
       "2052        2052  POR      LAC  20080321  Portland Trail Blazers69        5.9   \n",
       "239          239  MIA      BOS  20071116           Boston Celtics8        8.8   \n",
       "575          575  CLE      CHA  20071208       Charlotte Bobcats18        8.7   \n",
       "1440        1440  SAC      SEA  20080206        Sacramento Kings47       10.1   \n",
       "1677        1677  POR      LAL  20080226      Los Angeles Lakers57        6.8   \n",
       "\n",
       "      team_FT  team_2PA  team_FG  team_DRB   ...     opponent_TRB  \\\n",
       "2052     14.0      58.0     42.0      24.0   ...             28.0   \n",
       "239      16.0      56.0     35.0      29.0   ...             40.0   \n",
       "575      23.0      55.0     32.0      25.0   ...             34.0   \n",
       "1440     13.0      76.0     36.0      28.0   ...             54.0   \n",
       "1677     21.0      63.0     30.0      30.0   ...             41.0   \n",
       "\n",
       "      opponent_FTA  opponent_BLK  opponent_FTr  opponent_TS%  opponent_FT/FGA  \\\n",
       "2052          16.0           2.0         0.219      0.637181         0.164384   \n",
       "239           18.0           2.0         0.254      0.582869         0.239437   \n",
       "575           48.0           8.0         0.750      0.563910         0.562500   \n",
       "1440          26.0           7.0         0.342      0.600412         0.263158   \n",
       "1677          17.0           6.0         0.224      0.574988         0.197368   \n",
       "\n",
       "      opponent_3P%  home           Index  Outcome  \n",
       "2052      0.615385     1  20080321PORLAC      209  \n",
       "239       0.357143     0  20071116MIABOS      183  \n",
       "575       0.444444     0  20071208CLECHA      189  \n",
       "1440      0.500000     1  20080206SACSEA      197  \n",
       "1677      0.473684     0  20080226PORLAL      179  \n",
       "\n",
       "[5 rows x 100 columns]"
      ]
     },
     "execution_count": 14,
     "metadata": {},
     "output_type": "execute_result"
    }
   ],
   "source": [
    "season.sample(5)"
   ]
  },
  {
   "cell_type": "code",
   "execution_count": 15,
   "metadata": {},
   "outputs": [],
   "source": [
    "in_data = season.set_index(\"Index\")\n",
    "in_data = in_data.drop([\"index\", \"Unnamed: 0\"], axis = 1)\n",
    "in_data = in_data.sort_index()"
   ]
  },
  {
   "cell_type": "code",
   "execution_count": 16,
   "metadata": {},
   "outputs": [
    {
     "data": {
      "text/plain": [
       "(2632, 97)"
      ]
     },
     "execution_count": 16,
     "metadata": {},
     "output_type": "execute_result"
    }
   ],
   "source": [
    "in_data.shape"
   ]
  },
  {
   "cell_type": "code",
   "execution_count": 17,
   "metadata": {},
   "outputs": [
    {
     "data": {
      "text/html": [
       "<div>\n",
       "<style scoped>\n",
       "    .dataframe tbody tr th:only-of-type {\n",
       "        vertical-align: middle;\n",
       "    }\n",
       "\n",
       "    .dataframe tbody tr th {\n",
       "        vertical-align: top;\n",
       "    }\n",
       "\n",
       "    .dataframe thead th {\n",
       "        text-align: right;\n",
       "    }\n",
       "</style>\n",
       "<table border=\"1\" class=\"dataframe\">\n",
       "  <thead>\n",
       "    <tr style=\"text-align: right;\">\n",
       "      <th></th>\n",
       "      <th>team</th>\n",
       "      <th>opponent</th>\n",
       "      <th>date</th>\n",
       "      <th>team_STL%</th>\n",
       "      <th>team_FT</th>\n",
       "      <th>team_2PA</th>\n",
       "      <th>team_FG</th>\n",
       "      <th>team_DRB</th>\n",
       "      <th>team_ORB%</th>\n",
       "      <th>team_AST</th>\n",
       "      <th>...</th>\n",
       "      <th>opponent_STL</th>\n",
       "      <th>opponent_TRB</th>\n",
       "      <th>opponent_FTA</th>\n",
       "      <th>opponent_BLK</th>\n",
       "      <th>opponent_FTr</th>\n",
       "      <th>opponent_TS%</th>\n",
       "      <th>opponent_FT/FGA</th>\n",
       "      <th>opponent_3P%</th>\n",
       "      <th>home</th>\n",
       "      <th>Outcome</th>\n",
       "    </tr>\n",
       "    <tr>\n",
       "      <th>Index</th>\n",
       "      <th></th>\n",
       "      <th></th>\n",
       "      <th></th>\n",
       "      <th></th>\n",
       "      <th></th>\n",
       "      <th></th>\n",
       "      <th></th>\n",
       "      <th></th>\n",
       "      <th></th>\n",
       "      <th></th>\n",
       "      <th></th>\n",
       "      <th></th>\n",
       "      <th></th>\n",
       "      <th></th>\n",
       "      <th></th>\n",
       "      <th></th>\n",
       "      <th></th>\n",
       "      <th></th>\n",
       "      <th></th>\n",
       "      <th></th>\n",
       "      <th></th>\n",
       "    </tr>\n",
       "  </thead>\n",
       "  <tbody>\n",
       "    <tr>\n",
       "      <th>20080303NYKNOP</th>\n",
       "      <td>NYK</td>\n",
       "      <td>NOP</td>\n",
       "      <td>20080303</td>\n",
       "      <td>2.3</td>\n",
       "      <td>13.0</td>\n",
       "      <td>72.0</td>\n",
       "      <td>35.0</td>\n",
       "      <td>35.0</td>\n",
       "      <td>24.5</td>\n",
       "      <td>18.0</td>\n",
       "      <td>...</td>\n",
       "      <td>5.0</td>\n",
       "      <td>52.0</td>\n",
       "      <td>20.0</td>\n",
       "      <td>6.0</td>\n",
       "      <td>0.227</td>\n",
       "      <td>0.516529</td>\n",
       "      <td>0.159091</td>\n",
       "      <td>0.4</td>\n",
       "      <td>1</td>\n",
       "      <td>188</td>\n",
       "    </tr>\n",
       "  </tbody>\n",
       "</table>\n",
       "<p>1 rows × 97 columns</p>\n",
       "</div>"
      ],
      "text/plain": [
       "               team opponent      date  team_STL%  team_FT  team_2PA  team_FG  \\\n",
       "Index                                                                           \n",
       "20080303NYKNOP  NYK      NOP  20080303        2.3     13.0      72.0     35.0   \n",
       "\n",
       "                team_DRB  team_ORB%  team_AST   ...     opponent_STL  \\\n",
       "Index                                           ...                    \n",
       "20080303NYKNOP      35.0       24.5      18.0   ...              5.0   \n",
       "\n",
       "                opponent_TRB  opponent_FTA  opponent_BLK  opponent_FTr  \\\n",
       "Index                                                                    \n",
       "20080303NYKNOP          52.0          20.0           6.0         0.227   \n",
       "\n",
       "                opponent_TS%  opponent_FT/FGA  opponent_3P%  home  Outcome  \n",
       "Index                                                                       \n",
       "20080303NYKNOP      0.516529         0.159091           0.4     1      188  \n",
       "\n",
       "[1 rows x 97 columns]"
      ]
     },
     "execution_count": 17,
     "metadata": {},
     "output_type": "execute_result"
    }
   ],
   "source": [
    "in_data.sample(1)"
   ]
  },
  {
   "cell_type": "markdown",
   "metadata": {},
   "source": [
    "## Extracting the data"
   ]
  },
  {
   "cell_type": "code",
   "execution_count": 18,
   "metadata": {},
   "outputs": [],
   "source": [
    "### for every team: past 3 games stats (them and opponent) + opponent season averages"
   ]
  },
  {
   "cell_type": "markdown",
   "metadata": {},
   "source": [
    "#### Computing running season averages by team"
   ]
  },
  {
   "cell_type": "code",
   "execution_count": 19,
   "metadata": {},
   "outputs": [],
   "source": [
    "dates = pd.unique(in_data.date)\n",
    "\n",
    "season_averages = {}\n",
    "\n",
    "for date in dates:\n",
    "    # get all past games\n",
    "    past_games = in_data[in_data.date < date]\n",
    "    # means\n",
    "    season_averages[date] = past_games.groupby('team').mean()"
   ]
  },
  {
   "cell_type": "markdown",
   "metadata": {},
   "source": [
    "#### Computing the past n games for every matchup"
   ]
  },
  {
   "cell_type": "code",
   "execution_count": 20,
   "metadata": {},
   "outputs": [],
   "source": [
    "n = 3\n",
    "home_only = in_data[in_data.home == 1]"
   ]
  },
  {
   "cell_type": "code",
   "execution_count": 21,
   "metadata": {},
   "outputs": [],
   "source": [
    "## build a list of games for every team\n",
    "past_n = {}\n",
    "\n",
    "for date in dates:\n",
    "    team_map = {}\n",
    "    past_games = in_data[in_data.date < date]\n",
    "    for team in pd.unique(home_only.team):\n",
    "        #get the past games for team\n",
    "        past_team = past_games[past_games.team == team].tail(3)\n",
    "        team_map[team] = past_team\n",
    "    past_n[date] = team_map        "
   ]
  },
  {
   "cell_type": "markdown",
   "metadata": {},
   "source": [
    "#### Making a dataset"
   ]
  },
  {
   "cell_type": "code",
   "execution_count": 22,
   "metadata": {},
   "outputs": [],
   "source": [
    "## one-hot encode team names\n",
    "teams = season_names.values()\n",
    "encoding = {}\n",
    "index = 0\n",
    "for team in teams:\n",
    "    if team not in encoding:\n",
    "        encoding[team] = index\n",
    "        index += 1\n",
    "        \n",
    "empty_list = [0 for j in range(index + 1)]\n",
    "encoded = {}\n",
    "for team in teams:\n",
    "    if team in encoded: continue\n",
    "    \n",
    "    copy = empty_list[:]\n",
    "    \n",
    "    i = encoding[team]\n",
    "    copy[i] = 1\n",
    "    encoded[team] = copy"
   ]
  },
  {
   "cell_type": "code",
   "execution_count": 23,
   "metadata": {},
   "outputs": [],
   "source": [
    "X = []\n",
    "y = []\n",
    "\n",
    "for i, row in home_only.iterrows():\n",
    "    \n",
    "    home_team = row[\"team\"]\n",
    "    away_team = row[\"opponent\"]\n",
    "    \n",
    "    date = row[\"date\"]\n",
    "    \n",
    "    past_n_home = past_n[date][home_team]\n",
    "    past_n_away = past_n[date][away_team]\n",
    "    \n",
    "    avgs = season_averages[date]\n",
    "    \n",
    "    if past_n_home.shape[0] < n or past_n_away.shape[0] < n: continue\n",
    "    \n",
    "    ################ AWAY TEAM PAST GAMES\n",
    "    data_home = []\n",
    "    for j, row_2 in past_n_home.iterrows():\n",
    "        cur_data = []\n",
    "\n",
    "        team = row[\"team\"]\n",
    "        opponent = row[\"opponent\"]\n",
    "\n",
    "        cur_data.extend(encoded[team])\n",
    "        cur_data.extend(encoded[opponent])\n",
    "        cur_data.extend(row.drop([\"team\", \"opponent\", \"date\"]).values)\n",
    "\n",
    "        opp_stats = avgs.loc[opponent].values\n",
    "\n",
    "        cur_data.extend(opp_stats)\n",
    "\n",
    "        data_home.append(cur_data)\n",
    "    \n",
    "    ################ AWAY TEAM PAST GAMES\n",
    "    data_away = []\n",
    "    for j, row_2 in past_n_away.iterrows():\n",
    "        cur_data = []\n",
    "\n",
    "        team = row[\"team\"]\n",
    "        opponent = row[\"opponent\"]\n",
    "\n",
    "        cur_data.extend(encoded[team])\n",
    "        cur_data.extend(encoded[opponent])\n",
    "        cur_data.extend(row.drop([\"team\", \"opponent\", \"date\"]).values)\n",
    "\n",
    "        opp_stats = avgs.loc[opponent].values\n",
    "\n",
    "        cur_data.extend(opp_stats)\n",
    "\n",
    "        data_away.append(cur_data)\n",
    "    \n",
    "    ################ MERGE THE TWO\n",
    "    data = []\n",
    "    for i in range(len(data_home)):\n",
    "        cur_data = data_home[i]\n",
    "        cur_data.extend(data_away[i])\n",
    "        data.append(cur_data)\n",
    "    \n",
    "    X.append(data)\n",
    "    y.append(row[\"Outcome\"])"
   ]
  },
  {
   "cell_type": "code",
   "execution_count": 24,
   "metadata": {},
   "outputs": [],
   "source": [
    "X = np.array(X)\n",
    "y = np.array(y)\n",
    "\n",
    "X = X[y > 0]\n",
    "y = y[y > 0]\n",
    "\n",
    "p = np.random.permutation(len(X))\n",
    "X = X[p]\n",
    "y = y[p]\n",
    "\n",
    "val = 0.2\n",
    "val = round(len(X) * val)\n",
    "val_X = X[:val]\n",
    "val_y = y[:val]\n",
    "X = X[val:]\n",
    "y = y[val:]"
   ]
  },
  {
   "cell_type": "code",
   "execution_count": 25,
   "metadata": {},
   "outputs": [],
   "source": [
    "#### Specify the model architecture\n",
    "class LSTMModel(nn.Module):\n",
    "\n",
    "    def __init__(self, input_dim, hidden_dim, target_size, num_layers, batch_size, time_steps):\n",
    "        super(LSTMModel, self).__init__()\n",
    "        \n",
    "        self.hidden_dim = hidden_dim\n",
    "        self.num_layers = num_layers\n",
    "        self.batch_size = batch_size\n",
    "        self.time_steps = time_steps\n",
    "        \n",
    "        # Initialize LSTM unit\n",
    "        self.lstm = nn.LSTM(input_size=input_dim, hidden_size=hidden_dim, num_layers=num_layers, batch_first=False)\n",
    "\n",
    "        # The linear layer that maps from hidden state space to tag space\n",
    "        self.hidden2out = nn.Linear(hidden_dim, target_size)\n",
    "        self.hidden = self.init_hidden()\n",
    "\n",
    "    def init_hidden(self):\n",
    "        # Before we've done anything, we dont have any hidden state.\n",
    "        # Refer to the Pytorch documentation to see exactly\n",
    "        # why they have this dimensionality.\n",
    "        # The axes semantics are (num_layers, minibatch_size , hidden_dim)\n",
    "        return (torch.zeros(self.num_layers, self.time_steps, self.hidden_dim),\n",
    "                torch.zeros(self.num_layers, self.time_steps, self.hidden_dim))\n",
    "        \n",
    "        return (torch.zeros(self.num_layers, self.batch_size, self.hidden_dim),\n",
    "                torch.zeros(self.num_layers, self.batch_size, self.hidden_dim))\n",
    "\n",
    "    def forward(self, input_seq):\n",
    "        lstm_out, self.hidden = self.lstm(input_seq, self.hidden)\n",
    "        \n",
    "        pred = self.hidden2out(lstm_out)\n",
    "        \n",
    "        return pred"
   ]
  },
  {
   "cell_type": "code",
   "execution_count": 40,
   "metadata": {},
   "outputs": [],
   "source": [
    "## Define the model\n",
    "model = LSTMModel(input_dim = 504,\n",
    "                     hidden_dim = 20,\n",
    "                     target_size = 1,\n",
    "                     num_layers = 1,\n",
    "                     batch_size = 10, \n",
    "                     time_steps = 3)\n",
    "                     \n",
    "loss_function = nn.MSELoss()\n",
    "optimizer = optim.SGD(model.parameters(), lr=0.1)"
   ]
  },
  {
   "cell_type": "code",
   "execution_count": null,
   "metadata": {},
   "outputs": [
    {
     "name": "stdout",
     "output_type": "stream",
     "text": [
      "----------\n",
      "Losses after 9 iterations:\n",
      "Train: 322.2840270996094\n",
      "----------\n",
      "Losses after 19 iterations:\n",
      "Train: 339.21392822265625\n",
      "----------\n",
      "Losses after 29 iterations:\n",
      "Train: 353.0520935058594\n",
      "----------\n",
      "Losses after 39 iterations:\n",
      "Train: 358.0295715332031\n",
      "----------\n",
      "Losses after 49 iterations:\n",
      "Train: 359.78619384765625\n",
      "----------\n",
      "Losses after 59 iterations:\n",
      "Train: 360.4023132324219\n",
      "----------\n",
      "Losses after 69 iterations:\n",
      "Train: 360.6178283691406\n",
      "----------\n",
      "Losses after 79 iterations:\n",
      "Train: 360.6932067871094\n",
      "----------\n",
      "Losses after 89 iterations:\n",
      "Train: 360.7195739746094\n",
      "----------\n",
      "Losses after 99 iterations:\n",
      "Train: 360.7287292480469\n",
      "----------\n",
      "Losses after 109 iterations:\n",
      "Train: 360.73175048828125\n",
      "----------\n",
      "Losses after 119 iterations:\n",
      "Train: 360.7330017089844\n",
      "----------\n",
      "Losses after 129 iterations:\n",
      "Train: 360.7333984375\n",
      "----------\n",
      "Losses after 139 iterations:\n",
      "Train: 360.73370361328125\n",
      "----------\n",
      "Losses after 149 iterations:\n",
      "Train: 360.7336730957031\n",
      "----------\n",
      "Losses after 159 iterations:\n",
      "Train: 360.733642578125\n",
      "----------\n",
      "Losses after 169 iterations:\n",
      "Train: 360.733642578125\n",
      "----------\n",
      "Losses after 179 iterations:\n",
      "Train: 360.733642578125\n",
      "----------\n",
      "Losses after 189 iterations:\n",
      "Train: 360.733642578125\n",
      "----------\n",
      "Losses after 199 iterations:\n",
      "Train: 360.733642578125\n"
     ]
    }
   ],
   "source": [
    "losses = []\n",
    "val_losses = []\n",
    "\n",
    "for epoch in range(500):   # again, normally you would NOT do 300 epochs, it is toy data\n",
    "    train_loss = 0\n",
    "    for i in range(0, len(X), model.batch_size):\n",
    "        if i + model.batch_size >= len(X) : continue\n",
    "        \n",
    "        #Pytorch accumulates gradients. We need to clear them out before each instance\n",
    "        model.zero_grad()\n",
    "\n",
    "        # Also, we need to clear out the hidden state of the LSTM, detaching it from its history on the last instance.\n",
    "        model.hidden = model.init_hidden()\n",
    "\n",
    "        # Step 2. Get our inputs ready for the network.\n",
    "        batch_input = X[i : i + model.batch_size] #.reshape((X.shape[1], model.batch_size, X.shape[2]))\n",
    "        batch = Variable(torch.from_numpy(batch_input)).type(torch.FloatTensor)\n",
    "                                                    \n",
    "        targets = Variable(torch.from_numpy(y[i : i + model.batch_size])).type(torch.FloatTensor)\n",
    "\n",
    "        # Step 3. Run our forward pass.\n",
    "        scores = model(batch)\n",
    "        scores = scores[:, -1].reshape((model.batch_size)) # we only care about the last output\n",
    "\n",
    "        # Step 4. Compute the loss, gradients, and update the parameters by\n",
    "        #  calling optimizer.step()\n",
    "        loss = loss_function(scores, targets)\n",
    "        loss.backward()\n",
    "        optimizer.step()\n",
    "        \n",
    "        train_loss += loss.detach().numpy()\n",
    "        \n",
    "    ## validation loss\n",
    "    if (epoch + 1) % 10 == 0:\n",
    "        print(\"----------\")\n",
    "        print(\"Losses after {} iterations:\".format(epoch))\n",
    "        print(\"Train: {}\".format(loss.detach().numpy()))\n",
    "#        with torch.no_grad():\n",
    "#             batch_input = val_X\n",
    "#             batch = Variable(torch.from_numpy(batch_input)).type(torch.FloatTensor)\n",
    "#             targets = Variable(torch.from_numpy(val_y)).type(torch.FloatTensor)\n",
    "#             scores = model(batch)\n",
    "#             scores = scores[:, -1].reshape((len(val_y))) # we only care about the last output\n",
    "#             val_loss = loss_function(scores, targets)\n",
    "#             print(\"Val: {}\".format(val_loss))\n",
    "#             val_losses.append(val_loss)\n",
    "#             losses.append(train_loss/len(X))"
   ]
  },
  {
   "cell_type": "code",
   "execution_count": 31,
   "metadata": {},
   "outputs": [
    {
     "name": "stdout",
     "output_type": "stream",
     "text": [
      "tensor(420.3976)\n"
     ]
    }
   ],
   "source": [
    "# See what the scores are after training\n",
    "with torch.no_grad():\n",
    "    batch_input = val_X\n",
    "    batch = Variable(torch.from_numpy(batch_input)).type(torch.FloatTensor)\n",
    "    targets = Variable(torch.from_numpy(val_y)).type(torch.FloatTensor)\n",
    "    scores = model(batch)\n",
    "    scores = scores[:, -1].reshape((len(val_y))) # we only care about the last output\n",
    "    val_loss = loss_function(scores, targets)\n",
    "    print(val_loss)"
   ]
  },
  {
   "cell_type": "code",
   "execution_count": null,
   "metadata": {},
   "outputs": [],
   "source": []
  }
 ],
 "metadata": {
  "kernelspec": {
   "display_name": "Python 3",
   "language": "python",
   "name": "python3"
  },
  "language_info": {
   "codemirror_mode": {
    "name": "ipython",
    "version": 3
   },
   "file_extension": ".py",
   "mimetype": "text/x-python",
   "name": "python",
   "nbconvert_exporter": "python",
   "pygments_lexer": "ipython3",
   "version": "3.7.1"
  }
 },
 "nbformat": 4,
 "nbformat_minor": 2
}
