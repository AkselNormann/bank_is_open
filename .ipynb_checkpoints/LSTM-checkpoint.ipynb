{
 "cells": [
  {
   "cell_type": "markdown",
   "metadata": {},
   "source": [
    "# Collaborative Filtering with Neural Nets"
   ]
  },
  {
   "cell_type": "code",
   "execution_count": 1,
   "metadata": {},
   "outputs": [],
   "source": [
    "# for data manipulation\n",
    "import numpy as np\n",
    "import pandas as pd\n",
    "import os\n",
    "import pickle\n",
    "from tqdm import tqdm\n",
    "\n",
    "# use surprise for collaborative filtering\n",
    "import torch\n",
    "import torch.nn as nn\n",
    "import torch.nn.functional as F\n",
    "import torch.optim as optim\n",
    "from torch.autograd import Variable\n",
    "\n",
    "\n",
    "# plot\n",
    "import matplotlib.pyplot as plt"
   ]
  },
  {
   "cell_type": "markdown",
   "metadata": {},
   "source": [
    "## Read in data"
   ]
  },
  {
   "cell_type": "code",
   "execution_count": 2,
   "metadata": {},
   "outputs": [
    {
     "name": "stdout",
     "output_type": "stream",
     "text": [
      "2012-2013.pkl\n",
      "2013-2014.pkl\n",
      "(1265, 3, 508)\n",
      "(1272, 3, 508)\n",
      "2014-2015.pkl\n",
      "(2537, 3, 508)\n",
      "(1263, 3, 508)\n",
      "2015-2016.pkl\n",
      "(3800, 3, 508)\n",
      "(1269, 3, 508)\n",
      "2016-2017.pkl\n",
      "2017-2018.pkl\n"
     ]
    }
   ],
   "source": [
    "game_data_path = \"data/neural_net_data/\"\n",
    "files = sorted(os.listdir(game_data_path))\n",
    "\n",
    "files = [\"2012-2013.pkl\", \"2013-2014.pkl\", \"2014-2015.pkl\", \"2015-2016.pkl\", \"2016-2017.pkl\", \"2017-2018.pkl\"]\n",
    "\n",
    "X_train = np.zeros(5)\n",
    "\n",
    "for file in files[:-2]:\n",
    "    if \".pkl\" not in file: continue\n",
    "    \n",
    "    with open(game_data_path + file, 'rb') as f:\n",
    "        print(file)\n",
    "        if X_train.shape[0] == 5:\n",
    "            X_train, y_train = pickle.load(f, encoding='latin1')\n",
    "        else:\n",
    "            X_add, y_add = pickle.load(f, encoding='latin1')\n",
    "            print(X_train.shape)\n",
    "            print(X_add.shape)\n",
    "            X_train = np.concatenate((X_train, X_add), axis = 0)\n",
    "            y_train = np.concatenate((y_train, y_add), axis = 0)\n",
    "\n",
    "with open(game_data_path + files[-2], 'rb') as f:\n",
    "        print(files[-2])\n",
    "        X_val, y_val = pickle.load(f, encoding='latin1')\n",
    "        \n",
    "with open(game_data_path + files[-1], 'rb') as f:\n",
    "        print(files[-1])\n",
    "        X_test, y_test = pickle.load(f, encoding='latin1')"
   ]
  },
  {
   "cell_type": "markdown",
   "metadata": {},
   "source": [
    "## Clean Data"
   ]
  },
  {
   "cell_type": "code",
   "execution_count": 3,
   "metadata": {},
   "outputs": [],
   "source": [
    "def clean_data(X, y):\n",
    "    X = X[y > 0]\n",
    "    y = y[y > 0]\n",
    "    \n",
    "    return X, y"
   ]
  },
  {
   "cell_type": "code",
   "execution_count": 4,
   "metadata": {},
   "outputs": [],
   "source": [
    "X_train, y_train = clean_data(X_train, y_train)\n",
    "X_val, y_val = clean_data(X_val, y_val)\n",
    "X_test, y_test = clean_data(X_test, y_test)"
   ]
  },
  {
   "cell_type": "markdown",
   "metadata": {},
   "source": [
    "## LSTM Model"
   ]
  },
  {
   "cell_type": "code",
   "execution_count": 7,
   "metadata": {},
   "outputs": [],
   "source": [
    "#### Specify the model architecture\n",
    "class LSTMModel(nn.Module):\n",
    "\n",
    "    def __init__(self, input_dim, hidden_dim, target_size, num_layers, batch_size, time_steps, dropout):\n",
    "        super(LSTMModel, self).__init__()\n",
    "        \n",
    "        self.hidden_dim = hidden_dim\n",
    "        self.num_layers = num_layers\n",
    "        self.batch_size = batch_size\n",
    "        self.time_steps = time_steps\n",
    "        self.dropout = dropout\n",
    "        \n",
    "        # Initialize LSTM unit\n",
    "        self.lstm = nn.LSTM(input_size=input_dim, hidden_size=hidden_dim, num_layers=num_layers, batch_first=False)\n",
    "\n",
    "        # The linear layer that maps from hidden state space to tag space\n",
    "        self.hidden2out = nn.Linear(hidden_dim, target_size)\n",
    "        self.hidden = self.init_hidden()\n",
    "        \n",
    "        self.drop = nn.Dropout(dropout)\n",
    "\n",
    "    def init_hidden(self):\n",
    "        # Before we've done anything, we dont have any hidden state.\n",
    "        # Refer to the Pytorch documentation to see exactly\n",
    "        # why they have this dimensionality.\n",
    "        # The axes semantics are (num_layers, minibatch_size , hidden_dim)\n",
    "        return (torch.zeros(self.num_layers, self.time_steps, self.hidden_dim),\n",
    "                torch.zeros(self.num_layers, self.time_steps, self.hidden_dim))\n",
    "\n",
    "    def forward(self, input_seq):\n",
    "        lstm_out, self.hidden = self.lstm(input_seq, self.hidden)\n",
    "        \n",
    "        drop_out = self.drop(lstm_out)\n",
    "        \n",
    "        pred = self.hidden2out(drop_out)\n",
    "        \n",
    "        return pred"
   ]
  },
  {
   "cell_type": "code",
   "execution_count": 26,
   "metadata": {},
   "outputs": [],
   "source": [
    "## Define the model\n",
    "model = LSTMModel(input_dim = 508,\n",
    "                     hidden_dim = 20,\n",
    "                     target_size = 1,\n",
    "                     num_layers = 1,\n",
    "                     batch_size = 10, \n",
    "                     time_steps = 3,\n",
    "                     dropout = 0.2\n",
    "                 )\n",
    "                     \n",
    "loss_function = nn.MSELoss()\n",
    "optimizer = optim.SGD(model.parameters(), lr=0.05)#, weight_decay = .01)"
   ]
  },
  {
   "cell_type": "code",
   "execution_count": 27,
   "metadata": {},
   "outputs": [
    {
     "name": "stdout",
     "output_type": "stream",
     "text": [
      "----------\n",
      "Losses after 5 iterations:\n",
      "Train: 382.46676336779416\n",
      "Val: 446.8625793457031\n",
      "----------\n",
      "Losses after 10 iterations:\n",
      "Train: 382.1262288723134\n",
      "Val: 445.3562927246094\n",
      "----------\n",
      "Losses after 15 iterations:\n",
      "Train: 383.43197710113736\n",
      "Val: 454.57171630859375\n",
      "----------\n",
      "Losses after 20 iterations:\n",
      "Train: 382.7581289376349\n",
      "Val: 437.90301513671875\n",
      "----------\n",
      "Losses after 25 iterations:\n",
      "Train: 382.673500270955\n",
      "Val: 458.88543701171875\n",
      "----------\n",
      "Losses after 30 iterations:\n",
      "Train: 383.3652156006302\n",
      "Val: 438.2406005859375\n",
      "----------\n",
      "Losses after 35 iterations:\n",
      "Train: 383.5922208454214\n",
      "Val: 452.4633483886719\n",
      "----------\n",
      "Losses after 40 iterations:\n",
      "Train: 383.82683138625316\n",
      "Val: 451.6240539550781\n",
      "----------\n",
      "Losses after 45 iterations:\n",
      "Train: 383.1243432969053\n",
      "Val: 443.92333984375\n",
      "----------\n",
      "Losses after 50 iterations:\n",
      "Train: 382.238601003292\n",
      "Val: 441.4447326660156\n",
      "----------\n",
      "Losses after 55 iterations:\n",
      "Train: 383.1439034435639\n",
      "Val: 444.24188232421875\n",
      "----------\n",
      "Losses after 60 iterations:\n",
      "Train: 383.8144591796112\n",
      "Val: 431.09539794921875\n",
      "----------\n",
      "Losses after 65 iterations:\n",
      "Train: 382.8293718731324\n",
      "Val: 454.7852478027344\n",
      "----------\n",
      "Losses after 70 iterations:\n",
      "Train: 382.84058010883325\n",
      "Val: 444.85333251953125\n",
      "----------\n",
      "Losses after 75 iterations:\n",
      "Train: 383.9984005253489\n",
      "Val: 455.4539489746094\n",
      "----------\n",
      "Losses after 80 iterations:\n",
      "Train: 383.7279987931131\n",
      "Val: 436.5547180175781\n",
      "----------\n",
      "Losses after 85 iterations:\n",
      "Train: 382.1105243918925\n",
      "Val: 469.8116455078125\n",
      "----------\n",
      "Losses after 90 iterations:\n",
      "Train: 382.06744170001474\n",
      "Val: 451.0811462402344\n",
      "----------\n",
      "Losses after 95 iterations:\n",
      "Train: 381.69827061587586\n",
      "Val: 446.34295654296875\n",
      "----------\n",
      "Losses after 100 iterations:\n",
      "Train: 383.6163886634843\n",
      "Val: 438.5976867675781\n"
     ]
    },
    {
     "ename": "KeyboardInterrupt",
     "evalue": "",
     "output_type": "error",
     "traceback": [
      "\u001b[0;31m---------------------------------------------------------------------------\u001b[0m",
      "\u001b[0;31mKeyboardInterrupt\u001b[0m                         Traceback (most recent call last)",
      "\u001b[0;32m<ipython-input-27-25a85cbb3331>\u001b[0m in \u001b[0;36m<module>\u001b[0;34m\u001b[0m\n\u001b[1;32m     25\u001b[0m         \u001b[0;31m# Step 4. Compute the loss, gradients, and update the parameters by\u001b[0m\u001b[0;34m\u001b[0m\u001b[0;34m\u001b[0m\u001b[0;34m\u001b[0m\u001b[0m\n\u001b[1;32m     26\u001b[0m         \u001b[0;31m#  calling optimizer.step()\u001b[0m\u001b[0;34m\u001b[0m\u001b[0;34m\u001b[0m\u001b[0;34m\u001b[0m\u001b[0m\n\u001b[0;32m---> 27\u001b[0;31m         \u001b[0mloss\u001b[0m \u001b[0;34m=\u001b[0m \u001b[0mloss_function\u001b[0m\u001b[0;34m(\u001b[0m\u001b[0mscores\u001b[0m\u001b[0;34m,\u001b[0m \u001b[0mtargets\u001b[0m\u001b[0;34m)\u001b[0m\u001b[0;34m\u001b[0m\u001b[0;34m\u001b[0m\u001b[0m\n\u001b[0m\u001b[1;32m     28\u001b[0m         \u001b[0mloss\u001b[0m\u001b[0;34m.\u001b[0m\u001b[0mbackward\u001b[0m\u001b[0;34m(\u001b[0m\u001b[0;34m)\u001b[0m\u001b[0;34m\u001b[0m\u001b[0;34m\u001b[0m\u001b[0m\n\u001b[1;32m     29\u001b[0m         \u001b[0moptimizer\u001b[0m\u001b[0;34m.\u001b[0m\u001b[0mstep\u001b[0m\u001b[0;34m(\u001b[0m\u001b[0;34m)\u001b[0m\u001b[0;34m\u001b[0m\u001b[0;34m\u001b[0m\u001b[0m\n",
      "\u001b[0;31mKeyboardInterrupt\u001b[0m: "
     ]
    }
   ],
   "source": [
    "losses = []\n",
    "val_losses = []\n",
    "\n",
    "for epoch in range(500):\n",
    "    train_loss = 0\n",
    "    for i in range(0, len(X_train), model.batch_size):\n",
    "        if i + model.batch_size >= len(X_train) : continue\n",
    "        \n",
    "        #Pytorch accumulates gradients. We need to clear them out before each instance\n",
    "        model.zero_grad()\n",
    "\n",
    "        # Also, we need to clear out the hidden state of the LSTM, detaching it from its history on the last instance.\n",
    "        model.hidden = model.init_hidden()\n",
    "\n",
    "        # Step 2. Get our inputs ready for the network.\n",
    "        batch_input = X_train[i : i + model.batch_size] #.reshape((X.shape[1], model.batch_size, X.shape[2]))\n",
    "        batch = Variable(torch.from_numpy(batch_input)).type(torch.FloatTensor)\n",
    "                                                    \n",
    "        targets = Variable(torch.from_numpy(y_train[i : i + model.batch_size])).type(torch.FloatTensor)\n",
    "\n",
    "        # Step 3. Run our forward pass.\n",
    "        scores = model(batch)\n",
    "        scores = scores[:, -1].reshape((model.batch_size)) # we only care about the last output\n",
    "\n",
    "        # Step 4. Compute the loss, gradients, and update the parameters by\n",
    "        #  calling optimizer.step()\n",
    "        loss = loss_function(scores, targets)\n",
    "        loss.backward()\n",
    "        optimizer.step()\n",
    "        \n",
    "        #optimizer.zero_grad()   # clear gradients for next train\n",
    "        \n",
    "        train_loss += loss.detach().numpy()\n",
    "        \n",
    "    ## validation loss\n",
    "    if (epoch + 1) % 5 == 0:\n",
    "        print(\"----------\")\n",
    "        print(\"Losses after {} iterations:\".format(epoch + 1))\n",
    "        n_batches = len(X_train)/model.batch_size\n",
    "        print(\"Train: {}\".format(train_loss/n_batches))\n",
    "        with torch.no_grad():\n",
    "            batch = Variable(torch.from_numpy(X_val)).type(torch.FloatTensor)\n",
    "            targets = Variable(torch.from_numpy(y_val)).type(torch.FloatTensor)\n",
    "            scores = model(batch)\n",
    "            scores = scores[:, -1].reshape((len(y_val))) # we only care about the last output\n",
    "            val_loss = loss_function(scores, targets)\n",
    "            print(\"Val: {}\".format(val_loss))\n",
    "            val_losses.append(val_loss)\n",
    "            losses.append(train_loss/n_batches)"
   ]
  },
  {
   "cell_type": "code",
   "execution_count": 30,
   "metadata": {},
   "outputs": [
    {
     "data": {
      "image/png": "[encoded data removed]",
      "text/plain": [
       "<Figure size 432x288 with 1 Axes>"
      ]
     },
     "metadata": {
      "needs_background": "light"
     },
     "output_type": "display_data"
    }
   ],
   "source": [
    "epochs = [i for i in range(5, 101, 5)]\n",
    "plt.plot(epochs, losses, color=\"red\", label=\"Test Error\")\n",
    "plt.plot(epochs, val_losses, color=\"blue\", label=\"Train Error\")\n",
    "plt.legend()\n",
    "plt.xlabel(\"Epochs\")\n",
    "plt.ylabel(\"MSE\")\n",
    "plt.title(\"MSE vs. Epochs (LSTM)\")\n",
    "plt.savefig(\"lstm_train.jpg\")\n",
    "plt.show()"
   ]
  },
  {
   "cell_type": "code",
   "execution_count": null,
   "metadata": {},
   "outputs": [],
   "source": []
  }
 ],
 "metadata": {
  "kernelspec": {
   "display_name": "Python 3",
   "language": "python",
   "name": "python3"
  },
  "language_info": {
   "codemirror_mode": {
    "name": "ipython",
    "version": 3
   },
   "file_extension": ".py",
   "mimetype": "text/x-python",
   "name": "python",
   "nbconvert_exporter": "python",
   "pygments_lexer": "ipython3",
   "version": "3.7.1"
  }
 },
 "nbformat": 4,
 "nbformat_minor": 2
}
